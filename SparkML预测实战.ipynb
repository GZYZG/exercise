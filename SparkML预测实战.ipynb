{
 "cells": [
  {
   "cell_type": "code",
   "execution_count": 1,
   "metadata": {},
   "outputs": [],
   "source": [
    "# import findspark\n",
    "# findspark.init()\n",
    "# pyspark必须创建SparkSession才能像类似于pandas一样操作数据集\n",
    "from pyspark.sql import SparkSession\n",
    "spark=SparkSession.builder.appName('adult').getOrCreate()"
   ]
  },
  {
   "cell_type": "code",
   "execution_count": 2,
   "metadata": {},
   "outputs": [
    {
     "name": "stdout",
     "output_type": "stream",
     "text": [
      "+---+-----------------+------+----------+-------------+-------------------+------------------+--------------+------+-----+------------+------------+--------------+--------------+------+\n",
      "|age|        workclass|fnlwgt| education|education-num|     marital-status|        occupation|  relationship|  race|  sex|capital-gain|capital-loss|hours-per-week|native-country|income|\n",
      "+---+-----------------+------+----------+-------------+-------------------+------------------+--------------+------+-----+------------+------------+--------------+--------------+------+\n",
      "| 39|        State-gov| 77516| Bachelors|           13|      Never-married|      Adm-clerical| Not-in-family| White| Male|        2174|           0|            40| United-States| <=50K|\n",
      "| 50| Self-emp-not-inc| 83311| Bachelors|           13| Married-civ-spouse|   Exec-managerial|       Husband| White| Male|           0|           0|            13| United-States| <=50K|\n",
      "| 38|          Private|215646|   HS-grad|            9|           Divorced| Handlers-cleaners| Not-in-family| White| Male|           0|           0|            40| United-States| <=50K|\n",
      "+---+-----------------+------+----------+-------------+-------------------+------------------+--------------+------+-----+------------+------------+--------------+--------------+------+\n",
      "only showing top 3 rows\n",
      "\n"
     ]
    }
   ],
   "source": [
    "# 文件带有表头\n",
    "df = spark.read.csv('adult.csv', inferSchema = True, header=True)\n",
    "df.show(3)"
   ]
  },
  {
   "cell_type": "code",
   "execution_count": 3,
   "metadata": {},
   "outputs": [],
   "source": [
    "cols = df.columns"
   ]
  },
  {
   "cell_type": "code",
   "execution_count": 4,
   "metadata": {},
   "outputs": [
    {
     "name": "stdout",
     "output_type": "stream",
     "text": [
      "root\n",
      " |-- age: integer (nullable = true)\n",
      " |-- workclass: string (nullable = true)\n",
      " |-- fnlwgt: integer (nullable = true)\n",
      " |-- education: string (nullable = true)\n",
      " |-- education-num: integer (nullable = true)\n",
      " |-- marital-status: string (nullable = true)\n",
      " |-- occupation: string (nullable = true)\n",
      " |-- relationship: string (nullable = true)\n",
      " |-- race: string (nullable = true)\n",
      " |-- sex: string (nullable = true)\n",
      " |-- capital-gain: integer (nullable = true)\n",
      " |-- capital-loss: integer (nullable = true)\n",
      " |-- hours-per-week: integer (nullable = true)\n",
      " |-- native-country: string (nullable = true)\n",
      " |-- income: string (nullable = true)\n",
      "\n"
     ]
    }
   ],
   "source": [
    "df.printSchema()"
   ]
  },
  {
   "cell_type": "code",
   "execution_count": 5,
   "metadata": {},
   "outputs": [
    {
     "data": {
      "text/plain": [
       "[('age', 'int'),\n",
       " ('workclass', 'string'),\n",
       " ('fnlwgt', 'int'),\n",
       " ('education', 'string'),\n",
       " ('education-num', 'int'),\n",
       " ('marital-status', 'string'),\n",
       " ('occupation', 'string'),\n",
       " ('relationship', 'string'),\n",
       " ('race', 'string'),\n",
       " ('sex', 'string'),\n",
       " ('capital-gain', 'int'),\n",
       " ('capital-loss', 'int'),\n",
       " ('hours-per-week', 'int'),\n",
       " ('native-country', 'string'),\n",
       " ('income', 'string')]"
      ]
     },
     "execution_count": 5,
     "metadata": {},
     "output_type": "execute_result"
    }
   ],
   "source": [
    "df.dtypes"
   ]
  },
  {
   "cell_type": "code",
   "execution_count": 6,
   "metadata": {},
   "outputs": [
    {
     "data": {
      "text/plain": [
       "['workclass',\n",
       " 'education',\n",
       " 'marital-status',\n",
       " 'occupation',\n",
       " 'relationship',\n",
       " 'race',\n",
       " 'sex',\n",
       " 'native-country',\n",
       " 'income']"
      ]
     },
     "execution_count": 6,
     "metadata": {},
     "output_type": "execute_result"
    }
   ],
   "source": [
    "cat_features = [item[0] for item in df.dtypes if item[1]=='string']\n",
    "cat_features"
   ]
  },
  {
   "cell_type": "code",
   "execution_count": 7,
   "metadata": {},
   "outputs": [
    {
     "data": {
      "text/plain": [
       "['workclass',\n",
       " 'education',\n",
       " 'marital-status',\n",
       " 'occupation',\n",
       " 'relationship',\n",
       " 'race',\n",
       " 'sex',\n",
       " 'native-country']"
      ]
     },
     "execution_count": 7,
     "metadata": {},
     "output_type": "execute_result"
    }
   ],
   "source": [
    "# 需要删除 income列，否则标签泄露\n",
    "cat_features.remove('income')\n",
    "cat_features"
   ]
  },
  {
   "cell_type": "code",
   "execution_count": 8,
   "metadata": {},
   "outputs": [
    {
     "data": {
      "text/plain": [
       "['age',\n",
       " 'fnlwgt',\n",
       " 'education-num',\n",
       " 'capital-gain',\n",
       " 'capital-loss',\n",
       " 'hours-per-week']"
      ]
     },
     "execution_count": 8,
     "metadata": {},
     "output_type": "execute_result"
    }
   ],
   "source": [
    "num_features = [item[0] for item in df.dtypes if item[1]!='string']\n",
    "num_features"
   ]
  },
  {
   "cell_type": "code",
   "execution_count": 9,
   "metadata": {},
   "outputs": [],
   "source": [
    "from pyspark.ml import Pipeline\n",
    "from pyspark.ml.feature import StringIndexer, OneHotEncoder, VectorAssembler\n",
    "\n",
    "stages = []"
   ]
  },
  {
   "cell_type": "code",
   "execution_count": 10,
   "metadata": {},
   "outputs": [],
   "source": [
    "for col in cat_features:\n",
    "    # 字符串转成索引\n",
    "    string_index = StringIndexer(inputCol = col, outputCol = col + 'Index')\n",
    "    # 转换为OneHot编码\n",
    "    encoder = OneHotEncoder(inputCols=[string_index.getOutputCol()], outputCols=[col + \"_one_hot\"])\n",
    "    # 将每个字段的转换方式 放到stages中\n",
    "    stages += [string_index, encoder]"
   ]
  },
  {
   "cell_type": "code",
   "execution_count": 11,
   "metadata": {},
   "outputs": [],
   "source": [
    "# 将income转换为索引\n",
    "label_string_index = StringIndexer(inputCol = 'income', outputCol = 'label')\n",
    "# 添加到stages中\n",
    "stages += [label_string_index]\n"
   ]
  },
  {
   "cell_type": "code",
   "execution_count": 12,
   "metadata": {},
   "outputs": [],
   "source": [
    "# 类别变量 + 数值变量\n",
    "assembler_cols = [c + \"_one_hot\" for c in cat_features] + num_features\n",
    "assembler = VectorAssembler(inputCols=assembler_cols, outputCol=\"features\")\n",
    "stages += [assembler]"
   ]
  },
  {
   "cell_type": "code",
   "execution_count": 14,
   "metadata": {
    "collapsed": true,
    "jupyter": {
     "outputs_hidden": true
    },
    "tags": []
   },
   "outputs": [
    {
     "ename": "IllegalArgumentException",
     "evalue": "requirement failed: Output column label already exists.",
     "output_type": "error",
     "traceback": [
      "\u001b[1;31m---------------------------------------------------------------------------\u001b[0m",
      "\u001b[1;31mIllegalArgumentException\u001b[0m                  Traceback (most recent call last)",
      "\u001b[1;32m<ipython-input-14-fe05e5f86fe2>\u001b[0m in \u001b[0;36m<module>\u001b[1;34m\u001b[0m\n\u001b[0;32m      1\u001b[0m \u001b[1;31m# 使用pipeline完成数据处理\u001b[0m\u001b[1;33m\u001b[0m\u001b[1;33m\u001b[0m\u001b[1;33m\u001b[0m\u001b[0m\n\u001b[0;32m      2\u001b[0m \u001b[0mpipeline\u001b[0m \u001b[1;33m=\u001b[0m \u001b[0mPipeline\u001b[0m\u001b[1;33m(\u001b[0m\u001b[0mstages\u001b[0m\u001b[1;33m=\u001b[0m\u001b[0mstages\u001b[0m\u001b[1;33m)\u001b[0m\u001b[1;33m\u001b[0m\u001b[1;33m\u001b[0m\u001b[0m\n\u001b[1;32m----> 3\u001b[1;33m \u001b[0mpipeline_model\u001b[0m \u001b[1;33m=\u001b[0m \u001b[0mpipeline\u001b[0m\u001b[1;33m.\u001b[0m\u001b[0mfit\u001b[0m\u001b[1;33m(\u001b[0m\u001b[0mdf\u001b[0m\u001b[1;33m)\u001b[0m\u001b[1;33m\u001b[0m\u001b[1;33m\u001b[0m\u001b[0m\n\u001b[0m\u001b[0;32m      4\u001b[0m \u001b[0mdf\u001b[0m \u001b[1;33m=\u001b[0m \u001b[0mpipeline_model\u001b[0m\u001b[1;33m.\u001b[0m\u001b[0mtransform\u001b[0m\u001b[1;33m(\u001b[0m\u001b[0mdf\u001b[0m\u001b[1;33m)\u001b[0m\u001b[1;33m\u001b[0m\u001b[1;33m\u001b[0m\u001b[0m\n\u001b[0;32m      5\u001b[0m \u001b[0mselected_cols\u001b[0m \u001b[1;33m=\u001b[0m \u001b[1;33m[\u001b[0m\u001b[1;34m\"label\"\u001b[0m\u001b[1;33m,\u001b[0m \u001b[1;34m\"features\"\u001b[0m\u001b[1;33m]\u001b[0m \u001b[1;33m+\u001b[0m \u001b[0mcols\u001b[0m\u001b[1;33m\u001b[0m\u001b[1;33m\u001b[0m\u001b[0m\n",
      "\u001b[1;32md:\\codeprograms\\python37\\lib\\site-packages\\pyspark\\ml\\base.py\u001b[0m in \u001b[0;36mfit\u001b[1;34m(self, dataset, params)\u001b[0m\n\u001b[0;32m    159\u001b[0m                 \u001b[1;32mreturn\u001b[0m \u001b[0mself\u001b[0m\u001b[1;33m.\u001b[0m\u001b[0mcopy\u001b[0m\u001b[1;33m(\u001b[0m\u001b[0mparams\u001b[0m\u001b[1;33m)\u001b[0m\u001b[1;33m.\u001b[0m\u001b[0m_fit\u001b[0m\u001b[1;33m(\u001b[0m\u001b[0mdataset\u001b[0m\u001b[1;33m)\u001b[0m\u001b[1;33m\u001b[0m\u001b[1;33m\u001b[0m\u001b[0m\n\u001b[0;32m    160\u001b[0m             \u001b[1;32melse\u001b[0m\u001b[1;33m:\u001b[0m\u001b[1;33m\u001b[0m\u001b[1;33m\u001b[0m\u001b[0m\n\u001b[1;32m--> 161\u001b[1;33m                 \u001b[1;32mreturn\u001b[0m \u001b[0mself\u001b[0m\u001b[1;33m.\u001b[0m\u001b[0m_fit\u001b[0m\u001b[1;33m(\u001b[0m\u001b[0mdataset\u001b[0m\u001b[1;33m)\u001b[0m\u001b[1;33m\u001b[0m\u001b[1;33m\u001b[0m\u001b[0m\n\u001b[0m\u001b[0;32m    162\u001b[0m         \u001b[1;32melse\u001b[0m\u001b[1;33m:\u001b[0m\u001b[1;33m\u001b[0m\u001b[1;33m\u001b[0m\u001b[0m\n\u001b[0;32m    163\u001b[0m             raise ValueError(\"Params must be either a param map or a list/tuple of param maps, \"\n",
      "\u001b[1;32md:\\codeprograms\\python37\\lib\\site-packages\\pyspark\\ml\\pipeline.py\u001b[0m in \u001b[0;36m_fit\u001b[1;34m(self, dataset)\u001b[0m\n\u001b[0;32m    112\u001b[0m                     \u001b[0mdataset\u001b[0m \u001b[1;33m=\u001b[0m \u001b[0mstage\u001b[0m\u001b[1;33m.\u001b[0m\u001b[0mtransform\u001b[0m\u001b[1;33m(\u001b[0m\u001b[0mdataset\u001b[0m\u001b[1;33m)\u001b[0m\u001b[1;33m\u001b[0m\u001b[1;33m\u001b[0m\u001b[0m\n\u001b[0;32m    113\u001b[0m                 \u001b[1;32melse\u001b[0m\u001b[1;33m:\u001b[0m  \u001b[1;31m# must be an Estimator\u001b[0m\u001b[1;33m\u001b[0m\u001b[1;33m\u001b[0m\u001b[0m\n\u001b[1;32m--> 114\u001b[1;33m                     \u001b[0mmodel\u001b[0m \u001b[1;33m=\u001b[0m \u001b[0mstage\u001b[0m\u001b[1;33m.\u001b[0m\u001b[0mfit\u001b[0m\u001b[1;33m(\u001b[0m\u001b[0mdataset\u001b[0m\u001b[1;33m)\u001b[0m\u001b[1;33m\u001b[0m\u001b[1;33m\u001b[0m\u001b[0m\n\u001b[0m\u001b[0;32m    115\u001b[0m                     \u001b[0mtransformers\u001b[0m\u001b[1;33m.\u001b[0m\u001b[0mappend\u001b[0m\u001b[1;33m(\u001b[0m\u001b[0mmodel\u001b[0m\u001b[1;33m)\u001b[0m\u001b[1;33m\u001b[0m\u001b[1;33m\u001b[0m\u001b[0m\n\u001b[0;32m    116\u001b[0m                     \u001b[1;32mif\u001b[0m \u001b[0mi\u001b[0m \u001b[1;33m<\u001b[0m \u001b[0mindexOfLastEstimator\u001b[0m\u001b[1;33m:\u001b[0m\u001b[1;33m\u001b[0m\u001b[1;33m\u001b[0m\u001b[0m\n",
      "\u001b[1;32md:\\codeprograms\\python37\\lib\\site-packages\\pyspark\\ml\\base.py\u001b[0m in \u001b[0;36mfit\u001b[1;34m(self, dataset, params)\u001b[0m\n\u001b[0;32m    159\u001b[0m                 \u001b[1;32mreturn\u001b[0m \u001b[0mself\u001b[0m\u001b[1;33m.\u001b[0m\u001b[0mcopy\u001b[0m\u001b[1;33m(\u001b[0m\u001b[0mparams\u001b[0m\u001b[1;33m)\u001b[0m\u001b[1;33m.\u001b[0m\u001b[0m_fit\u001b[0m\u001b[1;33m(\u001b[0m\u001b[0mdataset\u001b[0m\u001b[1;33m)\u001b[0m\u001b[1;33m\u001b[0m\u001b[1;33m\u001b[0m\u001b[0m\n\u001b[0;32m    160\u001b[0m             \u001b[1;32melse\u001b[0m\u001b[1;33m:\u001b[0m\u001b[1;33m\u001b[0m\u001b[1;33m\u001b[0m\u001b[0m\n\u001b[1;32m--> 161\u001b[1;33m                 \u001b[1;32mreturn\u001b[0m \u001b[0mself\u001b[0m\u001b[1;33m.\u001b[0m\u001b[0m_fit\u001b[0m\u001b[1;33m(\u001b[0m\u001b[0mdataset\u001b[0m\u001b[1;33m)\u001b[0m\u001b[1;33m\u001b[0m\u001b[1;33m\u001b[0m\u001b[0m\n\u001b[0m\u001b[0;32m    162\u001b[0m         \u001b[1;32melse\u001b[0m\u001b[1;33m:\u001b[0m\u001b[1;33m\u001b[0m\u001b[1;33m\u001b[0m\u001b[0m\n\u001b[0;32m    163\u001b[0m             raise ValueError(\"Params must be either a param map or a list/tuple of param maps, \"\n",
      "\u001b[1;32md:\\codeprograms\\python37\\lib\\site-packages\\pyspark\\ml\\wrapper.py\u001b[0m in \u001b[0;36m_fit\u001b[1;34m(self, dataset)\u001b[0m\n\u001b[0;32m    333\u001b[0m \u001b[1;33m\u001b[0m\u001b[0m\n\u001b[0;32m    334\u001b[0m     \u001b[1;32mdef\u001b[0m \u001b[0m_fit\u001b[0m\u001b[1;33m(\u001b[0m\u001b[0mself\u001b[0m\u001b[1;33m,\u001b[0m \u001b[0mdataset\u001b[0m\u001b[1;33m)\u001b[0m\u001b[1;33m:\u001b[0m\u001b[1;33m\u001b[0m\u001b[1;33m\u001b[0m\u001b[0m\n\u001b[1;32m--> 335\u001b[1;33m         \u001b[0mjava_model\u001b[0m \u001b[1;33m=\u001b[0m \u001b[0mself\u001b[0m\u001b[1;33m.\u001b[0m\u001b[0m_fit_java\u001b[0m\u001b[1;33m(\u001b[0m\u001b[0mdataset\u001b[0m\u001b[1;33m)\u001b[0m\u001b[1;33m\u001b[0m\u001b[1;33m\u001b[0m\u001b[0m\n\u001b[0m\u001b[0;32m    336\u001b[0m         \u001b[0mmodel\u001b[0m \u001b[1;33m=\u001b[0m \u001b[0mself\u001b[0m\u001b[1;33m.\u001b[0m\u001b[0m_create_model\u001b[0m\u001b[1;33m(\u001b[0m\u001b[0mjava_model\u001b[0m\u001b[1;33m)\u001b[0m\u001b[1;33m\u001b[0m\u001b[1;33m\u001b[0m\u001b[0m\n\u001b[0;32m    337\u001b[0m         \u001b[1;32mreturn\u001b[0m \u001b[0mself\u001b[0m\u001b[1;33m.\u001b[0m\u001b[0m_copyValues\u001b[0m\u001b[1;33m(\u001b[0m\u001b[0mmodel\u001b[0m\u001b[1;33m)\u001b[0m\u001b[1;33m\u001b[0m\u001b[1;33m\u001b[0m\u001b[0m\n",
      "\u001b[1;32md:\\codeprograms\\python37\\lib\\site-packages\\pyspark\\ml\\wrapper.py\u001b[0m in \u001b[0;36m_fit_java\u001b[1;34m(self, dataset)\u001b[0m\n\u001b[0;32m    330\u001b[0m         \"\"\"\n\u001b[0;32m    331\u001b[0m         \u001b[0mself\u001b[0m\u001b[1;33m.\u001b[0m\u001b[0m_transfer_params_to_java\u001b[0m\u001b[1;33m(\u001b[0m\u001b[1;33m)\u001b[0m\u001b[1;33m\u001b[0m\u001b[1;33m\u001b[0m\u001b[0m\n\u001b[1;32m--> 332\u001b[1;33m         \u001b[1;32mreturn\u001b[0m \u001b[0mself\u001b[0m\u001b[1;33m.\u001b[0m\u001b[0m_java_obj\u001b[0m\u001b[1;33m.\u001b[0m\u001b[0mfit\u001b[0m\u001b[1;33m(\u001b[0m\u001b[0mdataset\u001b[0m\u001b[1;33m.\u001b[0m\u001b[0m_jdf\u001b[0m\u001b[1;33m)\u001b[0m\u001b[1;33m\u001b[0m\u001b[1;33m\u001b[0m\u001b[0m\n\u001b[0m\u001b[0;32m    333\u001b[0m \u001b[1;33m\u001b[0m\u001b[0m\n\u001b[0;32m    334\u001b[0m     \u001b[1;32mdef\u001b[0m \u001b[0m_fit\u001b[0m\u001b[1;33m(\u001b[0m\u001b[0mself\u001b[0m\u001b[1;33m,\u001b[0m \u001b[0mdataset\u001b[0m\u001b[1;33m)\u001b[0m\u001b[1;33m:\u001b[0m\u001b[1;33m\u001b[0m\u001b[1;33m\u001b[0m\u001b[0m\n",
      "\u001b[1;32md:\\codeprograms\\python37\\lib\\site-packages\\py4j\\java_gateway.py\u001b[0m in \u001b[0;36m__call__\u001b[1;34m(self, *args)\u001b[0m\n\u001b[0;32m   1303\u001b[0m         \u001b[0manswer\u001b[0m \u001b[1;33m=\u001b[0m \u001b[0mself\u001b[0m\u001b[1;33m.\u001b[0m\u001b[0mgateway_client\u001b[0m\u001b[1;33m.\u001b[0m\u001b[0msend_command\u001b[0m\u001b[1;33m(\u001b[0m\u001b[0mcommand\u001b[0m\u001b[1;33m)\u001b[0m\u001b[1;33m\u001b[0m\u001b[1;33m\u001b[0m\u001b[0m\n\u001b[0;32m   1304\u001b[0m         return_value = get_return_value(\n\u001b[1;32m-> 1305\u001b[1;33m             answer, self.gateway_client, self.target_id, self.name)\n\u001b[0m\u001b[0;32m   1306\u001b[0m \u001b[1;33m\u001b[0m\u001b[0m\n\u001b[0;32m   1307\u001b[0m         \u001b[1;32mfor\u001b[0m \u001b[0mtemp_arg\u001b[0m \u001b[1;32min\u001b[0m \u001b[0mtemp_args\u001b[0m\u001b[1;33m:\u001b[0m\u001b[1;33m\u001b[0m\u001b[1;33m\u001b[0m\u001b[0m\n",
      "\u001b[1;32md:\\codeprograms\\python37\\lib\\site-packages\\pyspark\\sql\\utils.py\u001b[0m in \u001b[0;36mdeco\u001b[1;34m(*a, **kw)\u001b[0m\n\u001b[0;32m    115\u001b[0m                 \u001b[1;31m# Hide where the exception came from that shows a non-Pythonic\u001b[0m\u001b[1;33m\u001b[0m\u001b[1;33m\u001b[0m\u001b[1;33m\u001b[0m\u001b[0m\n\u001b[0;32m    116\u001b[0m                 \u001b[1;31m# JVM exception message.\u001b[0m\u001b[1;33m\u001b[0m\u001b[1;33m\u001b[0m\u001b[1;33m\u001b[0m\u001b[0m\n\u001b[1;32m--> 117\u001b[1;33m                 \u001b[1;32mraise\u001b[0m \u001b[0mconverted\u001b[0m \u001b[1;32mfrom\u001b[0m \u001b[1;32mNone\u001b[0m\u001b[1;33m\u001b[0m\u001b[1;33m\u001b[0m\u001b[0m\n\u001b[0m\u001b[0;32m    118\u001b[0m             \u001b[1;32melse\u001b[0m\u001b[1;33m:\u001b[0m\u001b[1;33m\u001b[0m\u001b[1;33m\u001b[0m\u001b[0m\n\u001b[0;32m    119\u001b[0m                 \u001b[1;32mraise\u001b[0m\u001b[1;33m\u001b[0m\u001b[1;33m\u001b[0m\u001b[0m\n",
      "\u001b[1;31mIllegalArgumentException\u001b[0m: requirement failed: Output column label already exists."
     ]
    }
   ],
   "source": [
    "# 使用pipeline完成数据处理\n",
    "pipeline = Pipeline(stages=stages)\n",
    "pipeline_model = pipeline.fit(df)\n",
    "df = pipeline_model.transform(df)\n",
    "selected_cols = [\"label\", \"features\"] + cols\n",
    "df = df.select(selected_cols)\n",
    "df.show(3)\n"
   ]
  },
  {
   "cell_type": "code",
   "execution_count": 15,
   "metadata": {},
   "outputs": [
    {
     "data": {
      "text/html": [
       "<div>\n",
       "<style scoped>\n",
       "    .dataframe tbody tr th:only-of-type {\n",
       "        vertical-align: middle;\n",
       "    }\n",
       "\n",
       "    .dataframe tbody tr th {\n",
       "        vertical-align: top;\n",
       "    }\n",
       "\n",
       "    .dataframe thead th {\n",
       "        text-align: right;\n",
       "    }\n",
       "</style>\n",
       "<table border=\"1\" class=\"dataframe\">\n",
       "  <thead>\n",
       "    <tr style=\"text-align: right;\">\n",
       "      <th></th>\n",
       "      <th>label</th>\n",
       "      <th>features</th>\n",
       "      <th>age</th>\n",
       "      <th>workclass</th>\n",
       "      <th>fnlwgt</th>\n",
       "      <th>education</th>\n",
       "      <th>education-num</th>\n",
       "      <th>marital-status</th>\n",
       "      <th>occupation</th>\n",
       "      <th>relationship</th>\n",
       "      <th>race</th>\n",
       "      <th>sex</th>\n",
       "      <th>capital-gain</th>\n",
       "      <th>capital-loss</th>\n",
       "      <th>hours-per-week</th>\n",
       "      <th>native-country</th>\n",
       "      <th>income</th>\n",
       "    </tr>\n",
       "  </thead>\n",
       "  <tbody>\n",
       "    <tr>\n",
       "      <th>0</th>\n",
       "      <td>0.0</td>\n",
       "      <td>(0.0, 0.0, 0.0, 0.0, 1.0, 0.0, 0.0, 0.0, 0.0, ...</td>\n",
       "      <td>39</td>\n",
       "      <td>State-gov</td>\n",
       "      <td>77516</td>\n",
       "      <td>Bachelors</td>\n",
       "      <td>13</td>\n",
       "      <td>Never-married</td>\n",
       "      <td>Adm-clerical</td>\n",
       "      <td>Not-in-family</td>\n",
       "      <td>White</td>\n",
       "      <td>Male</td>\n",
       "      <td>2174</td>\n",
       "      <td>0</td>\n",
       "      <td>40</td>\n",
       "      <td>United-States</td>\n",
       "      <td>&lt;=50K</td>\n",
       "    </tr>\n",
       "    <tr>\n",
       "      <th>1</th>\n",
       "      <td>0.0</td>\n",
       "      <td>(0.0, 1.0, 0.0, 0.0, 0.0, 0.0, 0.0, 0.0, 0.0, ...</td>\n",
       "      <td>50</td>\n",
       "      <td>Self-emp-not-inc</td>\n",
       "      <td>83311</td>\n",
       "      <td>Bachelors</td>\n",
       "      <td>13</td>\n",
       "      <td>Married-civ-spouse</td>\n",
       "      <td>Exec-managerial</td>\n",
       "      <td>Husband</td>\n",
       "      <td>White</td>\n",
       "      <td>Male</td>\n",
       "      <td>0</td>\n",
       "      <td>0</td>\n",
       "      <td>13</td>\n",
       "      <td>United-States</td>\n",
       "      <td>&lt;=50K</td>\n",
       "    </tr>\n",
       "    <tr>\n",
       "      <th>2</th>\n",
       "      <td>0.0</td>\n",
       "      <td>(1.0, 0.0, 0.0, 0.0, 0.0, 0.0, 0.0, 0.0, 1.0, ...</td>\n",
       "      <td>38</td>\n",
       "      <td>Private</td>\n",
       "      <td>215646</td>\n",
       "      <td>HS-grad</td>\n",
       "      <td>9</td>\n",
       "      <td>Divorced</td>\n",
       "      <td>Handlers-cleaners</td>\n",
       "      <td>Not-in-family</td>\n",
       "      <td>White</td>\n",
       "      <td>Male</td>\n",
       "      <td>0</td>\n",
       "      <td>0</td>\n",
       "      <td>40</td>\n",
       "      <td>United-States</td>\n",
       "      <td>&lt;=50K</td>\n",
       "    </tr>\n",
       "    <tr>\n",
       "      <th>3</th>\n",
       "      <td>0.0</td>\n",
       "      <td>(1.0, 0.0, 0.0, 0.0, 0.0, 0.0, 0.0, 0.0, 0.0, ...</td>\n",
       "      <td>53</td>\n",
       "      <td>Private</td>\n",
       "      <td>234721</td>\n",
       "      <td>11th</td>\n",
       "      <td>7</td>\n",
       "      <td>Married-civ-spouse</td>\n",
       "      <td>Handlers-cleaners</td>\n",
       "      <td>Husband</td>\n",
       "      <td>Black</td>\n",
       "      <td>Male</td>\n",
       "      <td>0</td>\n",
       "      <td>0</td>\n",
       "      <td>40</td>\n",
       "      <td>United-States</td>\n",
       "      <td>&lt;=50K</td>\n",
       "    </tr>\n",
       "    <tr>\n",
       "      <th>4</th>\n",
       "      <td>0.0</td>\n",
       "      <td>(1.0, 0.0, 0.0, 0.0, 0.0, 0.0, 0.0, 0.0, 0.0, ...</td>\n",
       "      <td>28</td>\n",
       "      <td>Private</td>\n",
       "      <td>338409</td>\n",
       "      <td>Bachelors</td>\n",
       "      <td>13</td>\n",
       "      <td>Married-civ-spouse</td>\n",
       "      <td>Prof-specialty</td>\n",
       "      <td>Wife</td>\n",
       "      <td>Black</td>\n",
       "      <td>Female</td>\n",
       "      <td>0</td>\n",
       "      <td>0</td>\n",
       "      <td>40</td>\n",
       "      <td>Cuba</td>\n",
       "      <td>&lt;=50K</td>\n",
       "    </tr>\n",
       "    <tr>\n",
       "      <th>5</th>\n",
       "      <td>0.0</td>\n",
       "      <td>(1.0, 0.0, 0.0, 0.0, 0.0, 0.0, 0.0, 0.0, 0.0, ...</td>\n",
       "      <td>37</td>\n",
       "      <td>Private</td>\n",
       "      <td>284582</td>\n",
       "      <td>Masters</td>\n",
       "      <td>14</td>\n",
       "      <td>Married-civ-spouse</td>\n",
       "      <td>Exec-managerial</td>\n",
       "      <td>Wife</td>\n",
       "      <td>White</td>\n",
       "      <td>Female</td>\n",
       "      <td>0</td>\n",
       "      <td>0</td>\n",
       "      <td>40</td>\n",
       "      <td>United-States</td>\n",
       "      <td>&lt;=50K</td>\n",
       "    </tr>\n",
       "    <tr>\n",
       "      <th>6</th>\n",
       "      <td>0.0</td>\n",
       "      <td>(1.0, 0.0, 0.0, 0.0, 0.0, 0.0, 0.0, 0.0, 0.0, ...</td>\n",
       "      <td>49</td>\n",
       "      <td>Private</td>\n",
       "      <td>160187</td>\n",
       "      <td>9th</td>\n",
       "      <td>5</td>\n",
       "      <td>Married-spouse-absent</td>\n",
       "      <td>Other-service</td>\n",
       "      <td>Not-in-family</td>\n",
       "      <td>Black</td>\n",
       "      <td>Female</td>\n",
       "      <td>0</td>\n",
       "      <td>0</td>\n",
       "      <td>16</td>\n",
       "      <td>Jamaica</td>\n",
       "      <td>&lt;=50K</td>\n",
       "    </tr>\n",
       "    <tr>\n",
       "      <th>7</th>\n",
       "      <td>1.0</td>\n",
       "      <td>(0.0, 1.0, 0.0, 0.0, 0.0, 0.0, 0.0, 0.0, 1.0, ...</td>\n",
       "      <td>52</td>\n",
       "      <td>Self-emp-not-inc</td>\n",
       "      <td>209642</td>\n",
       "      <td>HS-grad</td>\n",
       "      <td>9</td>\n",
       "      <td>Married-civ-spouse</td>\n",
       "      <td>Exec-managerial</td>\n",
       "      <td>Husband</td>\n",
       "      <td>White</td>\n",
       "      <td>Male</td>\n",
       "      <td>0</td>\n",
       "      <td>0</td>\n",
       "      <td>45</td>\n",
       "      <td>United-States</td>\n",
       "      <td>&gt;50K</td>\n",
       "    </tr>\n",
       "    <tr>\n",
       "      <th>8</th>\n",
       "      <td>1.0</td>\n",
       "      <td>(1.0, 0.0, 0.0, 0.0, 0.0, 0.0, 0.0, 0.0, 0.0, ...</td>\n",
       "      <td>31</td>\n",
       "      <td>Private</td>\n",
       "      <td>45781</td>\n",
       "      <td>Masters</td>\n",
       "      <td>14</td>\n",
       "      <td>Never-married</td>\n",
       "      <td>Prof-specialty</td>\n",
       "      <td>Not-in-family</td>\n",
       "      <td>White</td>\n",
       "      <td>Female</td>\n",
       "      <td>14084</td>\n",
       "      <td>0</td>\n",
       "      <td>50</td>\n",
       "      <td>United-States</td>\n",
       "      <td>&gt;50K</td>\n",
       "    </tr>\n",
       "    <tr>\n",
       "      <th>9</th>\n",
       "      <td>1.0</td>\n",
       "      <td>(1.0, 0.0, 0.0, 0.0, 0.0, 0.0, 0.0, 0.0, 0.0, ...</td>\n",
       "      <td>42</td>\n",
       "      <td>Private</td>\n",
       "      <td>159449</td>\n",
       "      <td>Bachelors</td>\n",
       "      <td>13</td>\n",
       "      <td>Married-civ-spouse</td>\n",
       "      <td>Exec-managerial</td>\n",
       "      <td>Husband</td>\n",
       "      <td>White</td>\n",
       "      <td>Male</td>\n",
       "      <td>5178</td>\n",
       "      <td>0</td>\n",
       "      <td>40</td>\n",
       "      <td>United-States</td>\n",
       "      <td>&gt;50K</td>\n",
       "    </tr>\n",
       "    <tr>\n",
       "      <th>10</th>\n",
       "      <td>1.0</td>\n",
       "      <td>(1.0, 0.0, 0.0, 0.0, 0.0, 0.0, 0.0, 0.0, 0.0, ...</td>\n",
       "      <td>37</td>\n",
       "      <td>Private</td>\n",
       "      <td>280464</td>\n",
       "      <td>Some-college</td>\n",
       "      <td>10</td>\n",
       "      <td>Married-civ-spouse</td>\n",
       "      <td>Exec-managerial</td>\n",
       "      <td>Husband</td>\n",
       "      <td>Black</td>\n",
       "      <td>Male</td>\n",
       "      <td>0</td>\n",
       "      <td>0</td>\n",
       "      <td>80</td>\n",
       "      <td>United-States</td>\n",
       "      <td>&gt;50K</td>\n",
       "    </tr>\n",
       "    <tr>\n",
       "      <th>11</th>\n",
       "      <td>1.0</td>\n",
       "      <td>(0.0, 0.0, 0.0, 0.0, 1.0, 0.0, 0.0, 0.0, 0.0, ...</td>\n",
       "      <td>30</td>\n",
       "      <td>State-gov</td>\n",
       "      <td>141297</td>\n",
       "      <td>Bachelors</td>\n",
       "      <td>13</td>\n",
       "      <td>Married-civ-spouse</td>\n",
       "      <td>Prof-specialty</td>\n",
       "      <td>Husband</td>\n",
       "      <td>Asian-Pac-Islander</td>\n",
       "      <td>Male</td>\n",
       "      <td>0</td>\n",
       "      <td>0</td>\n",
       "      <td>40</td>\n",
       "      <td>India</td>\n",
       "      <td>&gt;50K</td>\n",
       "    </tr>\n",
       "    <tr>\n",
       "      <th>12</th>\n",
       "      <td>0.0</td>\n",
       "      <td>(1.0, 0.0, 0.0, 0.0, 0.0, 0.0, 0.0, 0.0, 0.0, ...</td>\n",
       "      <td>23</td>\n",
       "      <td>Private</td>\n",
       "      <td>122272</td>\n",
       "      <td>Bachelors</td>\n",
       "      <td>13</td>\n",
       "      <td>Never-married</td>\n",
       "      <td>Adm-clerical</td>\n",
       "      <td>Own-child</td>\n",
       "      <td>White</td>\n",
       "      <td>Female</td>\n",
       "      <td>0</td>\n",
       "      <td>0</td>\n",
       "      <td>30</td>\n",
       "      <td>United-States</td>\n",
       "      <td>&lt;=50K</td>\n",
       "    </tr>\n",
       "    <tr>\n",
       "      <th>13</th>\n",
       "      <td>0.0</td>\n",
       "      <td>(1.0, 0.0, 0.0, 0.0, 0.0, 0.0, 0.0, 0.0, 0.0, ...</td>\n",
       "      <td>32</td>\n",
       "      <td>Private</td>\n",
       "      <td>205019</td>\n",
       "      <td>Assoc-acdm</td>\n",
       "      <td>12</td>\n",
       "      <td>Never-married</td>\n",
       "      <td>Sales</td>\n",
       "      <td>Not-in-family</td>\n",
       "      <td>Black</td>\n",
       "      <td>Male</td>\n",
       "      <td>0</td>\n",
       "      <td>0</td>\n",
       "      <td>50</td>\n",
       "      <td>United-States</td>\n",
       "      <td>&lt;=50K</td>\n",
       "    </tr>\n",
       "    <tr>\n",
       "      <th>14</th>\n",
       "      <td>1.0</td>\n",
       "      <td>(1.0, 0.0, 0.0, 0.0, 0.0, 0.0, 0.0, 0.0, 0.0, ...</td>\n",
       "      <td>40</td>\n",
       "      <td>Private</td>\n",
       "      <td>121772</td>\n",
       "      <td>Assoc-voc</td>\n",
       "      <td>11</td>\n",
       "      <td>Married-civ-spouse</td>\n",
       "      <td>Craft-repair</td>\n",
       "      <td>Husband</td>\n",
       "      <td>Asian-Pac-Islander</td>\n",
       "      <td>Male</td>\n",
       "      <td>0</td>\n",
       "      <td>0</td>\n",
       "      <td>40</td>\n",
       "      <td>?</td>\n",
       "      <td>&gt;50K</td>\n",
       "    </tr>\n",
       "    <tr>\n",
       "      <th>15</th>\n",
       "      <td>0.0</td>\n",
       "      <td>(1.0, 0.0, 0.0, 0.0, 0.0, 0.0, 0.0, 0.0, 0.0, ...</td>\n",
       "      <td>34</td>\n",
       "      <td>Private</td>\n",
       "      <td>245487</td>\n",
       "      <td>7th-8th</td>\n",
       "      <td>4</td>\n",
       "      <td>Married-civ-spouse</td>\n",
       "      <td>Transport-moving</td>\n",
       "      <td>Husband</td>\n",
       "      <td>Amer-Indian-Eskimo</td>\n",
       "      <td>Male</td>\n",
       "      <td>0</td>\n",
       "      <td>0</td>\n",
       "      <td>45</td>\n",
       "      <td>Mexico</td>\n",
       "      <td>&lt;=50K</td>\n",
       "    </tr>\n",
       "    <tr>\n",
       "      <th>16</th>\n",
       "      <td>0.0</td>\n",
       "      <td>(0.0, 1.0, 0.0, 0.0, 0.0, 0.0, 0.0, 0.0, 1.0, ...</td>\n",
       "      <td>25</td>\n",
       "      <td>Self-emp-not-inc</td>\n",
       "      <td>176756</td>\n",
       "      <td>HS-grad</td>\n",
       "      <td>9</td>\n",
       "      <td>Never-married</td>\n",
       "      <td>Farming-fishing</td>\n",
       "      <td>Own-child</td>\n",
       "      <td>White</td>\n",
       "      <td>Male</td>\n",
       "      <td>0</td>\n",
       "      <td>0</td>\n",
       "      <td>35</td>\n",
       "      <td>United-States</td>\n",
       "      <td>&lt;=50K</td>\n",
       "    </tr>\n",
       "    <tr>\n",
       "      <th>17</th>\n",
       "      <td>0.0</td>\n",
       "      <td>(1.0, 0.0, 0.0, 0.0, 0.0, 0.0, 0.0, 0.0, 1.0, ...</td>\n",
       "      <td>32</td>\n",
       "      <td>Private</td>\n",
       "      <td>186824</td>\n",
       "      <td>HS-grad</td>\n",
       "      <td>9</td>\n",
       "      <td>Never-married</td>\n",
       "      <td>Machine-op-inspct</td>\n",
       "      <td>Unmarried</td>\n",
       "      <td>White</td>\n",
       "      <td>Male</td>\n",
       "      <td>0</td>\n",
       "      <td>0</td>\n",
       "      <td>40</td>\n",
       "      <td>United-States</td>\n",
       "      <td>&lt;=50K</td>\n",
       "    </tr>\n",
       "    <tr>\n",
       "      <th>18</th>\n",
       "      <td>0.0</td>\n",
       "      <td>(1.0, 0.0, 0.0, 0.0, 0.0, 0.0, 0.0, 0.0, 0.0, ...</td>\n",
       "      <td>38</td>\n",
       "      <td>Private</td>\n",
       "      <td>28887</td>\n",
       "      <td>11th</td>\n",
       "      <td>7</td>\n",
       "      <td>Married-civ-spouse</td>\n",
       "      <td>Sales</td>\n",
       "      <td>Husband</td>\n",
       "      <td>White</td>\n",
       "      <td>Male</td>\n",
       "      <td>0</td>\n",
       "      <td>0</td>\n",
       "      <td>50</td>\n",
       "      <td>United-States</td>\n",
       "      <td>&lt;=50K</td>\n",
       "    </tr>\n",
       "    <tr>\n",
       "      <th>19</th>\n",
       "      <td>1.0</td>\n",
       "      <td>(0.0, 1.0, 0.0, 0.0, 0.0, 0.0, 0.0, 0.0, 0.0, ...</td>\n",
       "      <td>43</td>\n",
       "      <td>Self-emp-not-inc</td>\n",
       "      <td>292175</td>\n",
       "      <td>Masters</td>\n",
       "      <td>14</td>\n",
       "      <td>Divorced</td>\n",
       "      <td>Exec-managerial</td>\n",
       "      <td>Unmarried</td>\n",
       "      <td>White</td>\n",
       "      <td>Female</td>\n",
       "      <td>0</td>\n",
       "      <td>0</td>\n",
       "      <td>45</td>\n",
       "      <td>United-States</td>\n",
       "      <td>&gt;50K</td>\n",
       "    </tr>\n",
       "  </tbody>\n",
       "</table>\n",
       "</div>"
      ],
      "text/plain": [
       "    label                                           features  age  \\\n",
       "0     0.0  (0.0, 0.0, 0.0, 0.0, 1.0, 0.0, 0.0, 0.0, 0.0, ...   39   \n",
       "1     0.0  (0.0, 1.0, 0.0, 0.0, 0.0, 0.0, 0.0, 0.0, 0.0, ...   50   \n",
       "2     0.0  (1.0, 0.0, 0.0, 0.0, 0.0, 0.0, 0.0, 0.0, 1.0, ...   38   \n",
       "3     0.0  (1.0, 0.0, 0.0, 0.0, 0.0, 0.0, 0.0, 0.0, 0.0, ...   53   \n",
       "4     0.0  (1.0, 0.0, 0.0, 0.0, 0.0, 0.0, 0.0, 0.0, 0.0, ...   28   \n",
       "5     0.0  (1.0, 0.0, 0.0, 0.0, 0.0, 0.0, 0.0, 0.0, 0.0, ...   37   \n",
       "6     0.0  (1.0, 0.0, 0.0, 0.0, 0.0, 0.0, 0.0, 0.0, 0.0, ...   49   \n",
       "7     1.0  (0.0, 1.0, 0.0, 0.0, 0.0, 0.0, 0.0, 0.0, 1.0, ...   52   \n",
       "8     1.0  (1.0, 0.0, 0.0, 0.0, 0.0, 0.0, 0.0, 0.0, 0.0, ...   31   \n",
       "9     1.0  (1.0, 0.0, 0.0, 0.0, 0.0, 0.0, 0.0, 0.0, 0.0, ...   42   \n",
       "10    1.0  (1.0, 0.0, 0.0, 0.0, 0.0, 0.0, 0.0, 0.0, 0.0, ...   37   \n",
       "11    1.0  (0.0, 0.0, 0.0, 0.0, 1.0, 0.0, 0.0, 0.0, 0.0, ...   30   \n",
       "12    0.0  (1.0, 0.0, 0.0, 0.0, 0.0, 0.0, 0.0, 0.0, 0.0, ...   23   \n",
       "13    0.0  (1.0, 0.0, 0.0, 0.0, 0.0, 0.0, 0.0, 0.0, 0.0, ...   32   \n",
       "14    1.0  (1.0, 0.0, 0.0, 0.0, 0.0, 0.0, 0.0, 0.0, 0.0, ...   40   \n",
       "15    0.0  (1.0, 0.0, 0.0, 0.0, 0.0, 0.0, 0.0, 0.0, 0.0, ...   34   \n",
       "16    0.0  (0.0, 1.0, 0.0, 0.0, 0.0, 0.0, 0.0, 0.0, 1.0, ...   25   \n",
       "17    0.0  (1.0, 0.0, 0.0, 0.0, 0.0, 0.0, 0.0, 0.0, 1.0, ...   32   \n",
       "18    0.0  (1.0, 0.0, 0.0, 0.0, 0.0, 0.0, 0.0, 0.0, 0.0, ...   38   \n",
       "19    1.0  (0.0, 1.0, 0.0, 0.0, 0.0, 0.0, 0.0, 0.0, 0.0, ...   43   \n",
       "\n",
       "            workclass  fnlwgt      education  education-num  \\\n",
       "0           State-gov   77516      Bachelors             13   \n",
       "1    Self-emp-not-inc   83311      Bachelors             13   \n",
       "2             Private  215646        HS-grad              9   \n",
       "3             Private  234721           11th              7   \n",
       "4             Private  338409      Bachelors             13   \n",
       "5             Private  284582        Masters             14   \n",
       "6             Private  160187            9th              5   \n",
       "7    Self-emp-not-inc  209642        HS-grad              9   \n",
       "8             Private   45781        Masters             14   \n",
       "9             Private  159449      Bachelors             13   \n",
       "10            Private  280464   Some-college             10   \n",
       "11          State-gov  141297      Bachelors             13   \n",
       "12            Private  122272      Bachelors             13   \n",
       "13            Private  205019     Assoc-acdm             12   \n",
       "14            Private  121772      Assoc-voc             11   \n",
       "15            Private  245487        7th-8th              4   \n",
       "16   Self-emp-not-inc  176756        HS-grad              9   \n",
       "17            Private  186824        HS-grad              9   \n",
       "18            Private   28887           11th              7   \n",
       "19   Self-emp-not-inc  292175        Masters             14   \n",
       "\n",
       "            marital-status          occupation    relationship  \\\n",
       "0            Never-married        Adm-clerical   Not-in-family   \n",
       "1       Married-civ-spouse     Exec-managerial         Husband   \n",
       "2                 Divorced   Handlers-cleaners   Not-in-family   \n",
       "3       Married-civ-spouse   Handlers-cleaners         Husband   \n",
       "4       Married-civ-spouse      Prof-specialty            Wife   \n",
       "5       Married-civ-spouse     Exec-managerial            Wife   \n",
       "6    Married-spouse-absent       Other-service   Not-in-family   \n",
       "7       Married-civ-spouse     Exec-managerial         Husband   \n",
       "8            Never-married      Prof-specialty   Not-in-family   \n",
       "9       Married-civ-spouse     Exec-managerial         Husband   \n",
       "10      Married-civ-spouse     Exec-managerial         Husband   \n",
       "11      Married-civ-spouse      Prof-specialty         Husband   \n",
       "12           Never-married        Adm-clerical       Own-child   \n",
       "13           Never-married               Sales   Not-in-family   \n",
       "14      Married-civ-spouse        Craft-repair         Husband   \n",
       "15      Married-civ-spouse    Transport-moving         Husband   \n",
       "16           Never-married     Farming-fishing       Own-child   \n",
       "17           Never-married   Machine-op-inspct       Unmarried   \n",
       "18      Married-civ-spouse               Sales         Husband   \n",
       "19                Divorced     Exec-managerial       Unmarried   \n",
       "\n",
       "                   race      sex  capital-gain  capital-loss  hours-per-week  \\\n",
       "0                 White     Male          2174             0              40   \n",
       "1                 White     Male             0             0              13   \n",
       "2                 White     Male             0             0              40   \n",
       "3                 Black     Male             0             0              40   \n",
       "4                 Black   Female             0             0              40   \n",
       "5                 White   Female             0             0              40   \n",
       "6                 Black   Female             0             0              16   \n",
       "7                 White     Male             0             0              45   \n",
       "8                 White   Female         14084             0              50   \n",
       "9                 White     Male          5178             0              40   \n",
       "10                Black     Male             0             0              80   \n",
       "11   Asian-Pac-Islander     Male             0             0              40   \n",
       "12                White   Female             0             0              30   \n",
       "13                Black     Male             0             0              50   \n",
       "14   Asian-Pac-Islander     Male             0             0              40   \n",
       "15   Amer-Indian-Eskimo     Male             0             0              45   \n",
       "16                White     Male             0             0              35   \n",
       "17                White     Male             0             0              40   \n",
       "18                White     Male             0             0              50   \n",
       "19                White   Female             0             0              45   \n",
       "\n",
       "    native-country  income  \n",
       "0    United-States   <=50K  \n",
       "1    United-States   <=50K  \n",
       "2    United-States   <=50K  \n",
       "3    United-States   <=50K  \n",
       "4             Cuba   <=50K  \n",
       "5    United-States   <=50K  \n",
       "6          Jamaica   <=50K  \n",
       "7    United-States    >50K  \n",
       "8    United-States    >50K  \n",
       "9    United-States    >50K  \n",
       "10   United-States    >50K  \n",
       "11           India    >50K  \n",
       "12   United-States   <=50K  \n",
       "13   United-States   <=50K  \n",
       "14               ?    >50K  \n",
       "15          Mexico   <=50K  \n",
       "16   United-States   <=50K  \n",
       "17   United-States   <=50K  \n",
       "18   United-States   <=50K  \n",
       "19   United-States    >50K  "
      ]
     },
     "execution_count": 15,
     "metadata": {},
     "output_type": "execute_result"
    }
   ],
   "source": [
    "import pandas as pd\n",
    "pd.DataFrame(df.take(20), columns = df.columns)"
   ]
  },
  {
   "cell_type": "code",
   "execution_count": 16,
   "metadata": {},
   "outputs": [
    {
     "data": {
      "text/plain": [
       "DataFrame[label: double, features: vector, age: int, workclass: string, fnlwgt: int, education: string, education-num: int, marital-status: string, occupation: string, relationship: string, race: string, sex: string, capital-gain: int, capital-loss: int, hours-per-week: int, native-country: string, income: string]"
      ]
     },
     "metadata": {},
     "output_type": "display_data"
    }
   ],
   "source": [
    "display(df)"
   ]
  },
  {
   "cell_type": "code",
   "execution_count": 17,
   "metadata": {},
   "outputs": [
    {
     "name": "stdout",
     "output_type": "stream",
     "text": [
      "22795\n",
      "9766\n"
     ]
    }
   ],
   "source": [
    "train, test = df.randomSplit([0.7, 0.3], seed=2021)\n",
    "print(train.count())\n",
    "print(test.count())\n"
   ]
  },
  {
   "cell_type": "code",
   "execution_count": 18,
   "metadata": {},
   "outputs": [],
   "source": [
    "from pyspark.ml.classification import LogisticRegression\n",
    "# 创建模型\n",
    "lr = LogisticRegression(featuresCol = 'features', labelCol = 'label',maxIter=10)\n",
    "lr_model = lr.fit(train)"
   ]
  },
  {
   "cell_type": "code",
   "execution_count": 19,
   "metadata": {},
   "outputs": [
    {
     "data": {
      "text/plain": [
       "[Row(label=0.0, features=SparseVector(100, {0: 1.0, 8: 1.0, 23: 1.0, 29: 1.0, 43: 1.0, 48: 1.0, 52: 1.0, 53: 1.0, 94: 32.0, 95: 130304.0, 96: 9.0, 98: 1485.0, 99: 48.0}), age=32, workclass=' Private', fnlwgt=130304, education=' HS-grad', education-num=9, marital-status=' Married-civ-spouse', occupation=' Prof-specialty', relationship=' Husband', race=' White', sex=' Male', capital-gain=0, capital-loss=1485, hours-per-week=48, native-country=' United-States', income=' <=50K', rawPrediction=DenseVector([-0.1896, 0.1896]), probability=DenseVector([0.4527, 0.5473]), prediction=1.0)]"
      ]
     },
     "execution_count": 19,
     "metadata": {},
     "output_type": "execute_result"
    }
   ],
   "source": [
    "predictions = lr_model.transform(test)\n",
    "predictions.take(1)"
   ]
  },
  {
   "cell_type": "code",
   "execution_count": 20,
   "metadata": {},
   "outputs": [
    {
     "name": "stdout",
     "output_type": "stream",
     "text": [
      "root\n",
      " |-- label: double (nullable = false)\n",
      " |-- features: vector (nullable = true)\n",
      " |-- age: integer (nullable = true)\n",
      " |-- workclass: string (nullable = true)\n",
      " |-- fnlwgt: integer (nullable = true)\n",
      " |-- education: string (nullable = true)\n",
      " |-- education-num: integer (nullable = true)\n",
      " |-- marital-status: string (nullable = true)\n",
      " |-- occupation: string (nullable = true)\n",
      " |-- relationship: string (nullable = true)\n",
      " |-- race: string (nullable = true)\n",
      " |-- sex: string (nullable = true)\n",
      " |-- capital-gain: integer (nullable = true)\n",
      " |-- capital-loss: integer (nullable = true)\n",
      " |-- hours-per-week: integer (nullable = true)\n",
      " |-- native-country: string (nullable = true)\n",
      " |-- income: string (nullable = true)\n",
      " |-- rawPrediction: vector (nullable = true)\n",
      " |-- probability: vector (nullable = true)\n",
      " |-- prediction: double (nullable = false)\n",
      "\n"
     ]
    }
   ],
   "source": [
    "predictions.printSchema()"
   ]
  },
  {
   "cell_type": "code",
   "execution_count": 21,
   "metadata": {},
   "outputs": [
    {
     "data": {
      "text/plain": [
       "DataFrame[label: double, prediction: double, probability: vector, age: int, occupation: string]"
      ]
     },
     "metadata": {},
     "output_type": "display_data"
    },
    {
     "name": "stdout",
     "output_type": "stream",
     "text": [
      "+-----+----------+--------------------+---+---------------+\n",
      "|label|prediction|         probability|age|     occupation|\n",
      "+-----+----------+--------------------+---+---------------+\n",
      "|  0.0|       1.0|[0.45274048564839...| 32| Prof-specialty|\n",
      "|  0.0|       1.0|[0.18385235468441...| 36| Prof-specialty|\n",
      "|  0.0|       0.0|[0.70663779133990...| 26| Prof-specialty|\n",
      "|  0.0|       0.0|[0.75021047636741...| 29| Prof-specialty|\n",
      "+-----+----------+--------------------+---+---------------+\n",
      "only showing top 4 rows\n",
      "\n"
     ]
    }
   ],
   "source": [
    "selected = predictions.select(\"label\", \"prediction\", \"probability\", \"age\", \"occupation\")\n",
    "display(selected)\n",
    "selected.show(4)"
   ]
  },
  {
   "cell_type": "code",
   "execution_count": 23,
   "metadata": {},
   "outputs": [
    {
     "data": {
      "text/html": [
       "<div>\n",
       "<style scoped>\n",
       "    .dataframe tbody tr th:only-of-type {\n",
       "        vertical-align: middle;\n",
       "    }\n",
       "\n",
       "    .dataframe tbody tr th {\n",
       "        vertical-align: top;\n",
       "    }\n",
       "\n",
       "    .dataframe thead th {\n",
       "        text-align: right;\n",
       "    }\n",
       "</style>\n",
       "<table border=\"1\" class=\"dataframe\">\n",
       "  <thead>\n",
       "    <tr style=\"text-align: right;\">\n",
       "      <th></th>\n",
       "      <th>label</th>\n",
       "      <th>features</th>\n",
       "      <th>age</th>\n",
       "      <th>workclass</th>\n",
       "      <th>fnlwgt</th>\n",
       "      <th>education</th>\n",
       "      <th>education-num</th>\n",
       "      <th>marital-status</th>\n",
       "      <th>occupation</th>\n",
       "      <th>relationship</th>\n",
       "      <th>race</th>\n",
       "      <th>sex</th>\n",
       "      <th>capital-gain</th>\n",
       "      <th>capital-loss</th>\n",
       "      <th>hours-per-week</th>\n",
       "      <th>native-country</th>\n",
       "      <th>income</th>\n",
       "      <th>rawPrediction</th>\n",
       "      <th>probability</th>\n",
       "      <th>prediction</th>\n",
       "    </tr>\n",
       "  </thead>\n",
       "  <tbody>\n",
       "    <tr>\n",
       "      <th>0</th>\n",
       "      <td>0.0</td>\n",
       "      <td>(1.0, 0.0, 0.0, 0.0, 0.0, 0.0, 0.0, 0.0, 1.0, ...</td>\n",
       "      <td>32</td>\n",
       "      <td>Private</td>\n",
       "      <td>130304</td>\n",
       "      <td>HS-grad</td>\n",
       "      <td>9</td>\n",
       "      <td>Married-civ-spouse</td>\n",
       "      <td>Prof-specialty</td>\n",
       "      <td>Husband</td>\n",
       "      <td>White</td>\n",
       "      <td>Male</td>\n",
       "      <td>0</td>\n",
       "      <td>1485</td>\n",
       "      <td>48</td>\n",
       "      <td>United-States</td>\n",
       "      <td>&lt;=50K</td>\n",
       "      <td>[-0.18960404004010267, 0.18960404004010267]</td>\n",
       "      <td>[0.4527404856483953, 0.5472595143516047]</td>\n",
       "      <td>1.0</td>\n",
       "    </tr>\n",
       "    <tr>\n",
       "      <th>1</th>\n",
       "      <td>0.0</td>\n",
       "      <td>(1.0, 0.0, 0.0, 0.0, 0.0, 0.0, 0.0, 0.0, 1.0, ...</td>\n",
       "      <td>36</td>\n",
       "      <td>Private</td>\n",
       "      <td>370767</td>\n",
       "      <td>HS-grad</td>\n",
       "      <td>9</td>\n",
       "      <td>Married-civ-spouse</td>\n",
       "      <td>Prof-specialty</td>\n",
       "      <td>Husband</td>\n",
       "      <td>White</td>\n",
       "      <td>Male</td>\n",
       "      <td>0</td>\n",
       "      <td>2377</td>\n",
       "      <td>60</td>\n",
       "      <td>United-States</td>\n",
       "      <td>&lt;=50K</td>\n",
       "      <td>[-1.490462261179387, 1.490462261179387]</td>\n",
       "      <td>[0.18385235468441496, 0.816147645315585]</td>\n",
       "      <td>1.0</td>\n",
       "    </tr>\n",
       "    <tr>\n",
       "      <th>2</th>\n",
       "      <td>0.0</td>\n",
       "      <td>(1.0, 0.0, 0.0, 0.0, 0.0, 0.0, 0.0, 0.0, 1.0, ...</td>\n",
       "      <td>26</td>\n",
       "      <td>Private</td>\n",
       "      <td>340787</td>\n",
       "      <td>HS-grad</td>\n",
       "      <td>9</td>\n",
       "      <td>Married-civ-spouse</td>\n",
       "      <td>Prof-specialty</td>\n",
       "      <td>Husband</td>\n",
       "      <td>White</td>\n",
       "      <td>Male</td>\n",
       "      <td>0</td>\n",
       "      <td>0</td>\n",
       "      <td>40</td>\n",
       "      <td>United-States</td>\n",
       "      <td>&lt;=50K</td>\n",
       "      <td>[0.8791101642782889, -0.8791101642782889]</td>\n",
       "      <td>[0.7066377913399012, 0.29336220866009877]</td>\n",
       "      <td>0.0</td>\n",
       "    </tr>\n",
       "    <tr>\n",
       "      <th>3</th>\n",
       "      <td>0.0</td>\n",
       "      <td>(1.0, 0.0, 0.0, 0.0, 0.0, 0.0, 0.0, 0.0, 1.0, ...</td>\n",
       "      <td>29</td>\n",
       "      <td>Private</td>\n",
       "      <td>40295</td>\n",
       "      <td>HS-grad</td>\n",
       "      <td>9</td>\n",
       "      <td>Married-civ-spouse</td>\n",
       "      <td>Prof-specialty</td>\n",
       "      <td>Husband</td>\n",
       "      <td>White</td>\n",
       "      <td>Male</td>\n",
       "      <td>0</td>\n",
       "      <td>0</td>\n",
       "      <td>40</td>\n",
       "      <td>United-States</td>\n",
       "      <td>&lt;=50K</td>\n",
       "      <td>[1.0997351445251138, -1.0997351445251138]</td>\n",
       "      <td>[0.7502104763674187, 0.24978952363258133]</td>\n",
       "      <td>0.0</td>\n",
       "    </tr>\n",
       "  </tbody>\n",
       "</table>\n",
       "</div>"
      ],
      "text/plain": [
       "   label                                           features  age workclass  \\\n",
       "0    0.0  (1.0, 0.0, 0.0, 0.0, 0.0, 0.0, 0.0, 0.0, 1.0, ...   32   Private   \n",
       "1    0.0  (1.0, 0.0, 0.0, 0.0, 0.0, 0.0, 0.0, 0.0, 1.0, ...   36   Private   \n",
       "2    0.0  (1.0, 0.0, 0.0, 0.0, 0.0, 0.0, 0.0, 0.0, 1.0, ...   26   Private   \n",
       "3    0.0  (1.0, 0.0, 0.0, 0.0, 0.0, 0.0, 0.0, 0.0, 1.0, ...   29   Private   \n",
       "\n",
       "   fnlwgt education  education-num       marital-status       occupation  \\\n",
       "0  130304   HS-grad              9   Married-civ-spouse   Prof-specialty   \n",
       "1  370767   HS-grad              9   Married-civ-spouse   Prof-specialty   \n",
       "2  340787   HS-grad              9   Married-civ-spouse   Prof-specialty   \n",
       "3   40295   HS-grad              9   Married-civ-spouse   Prof-specialty   \n",
       "\n",
       "  relationship    race    sex  capital-gain  capital-loss  hours-per-week  \\\n",
       "0      Husband   White   Male             0          1485              48   \n",
       "1      Husband   White   Male             0          2377              60   \n",
       "2      Husband   White   Male             0             0              40   \n",
       "3      Husband   White   Male             0             0              40   \n",
       "\n",
       "   native-country  income                                rawPrediction  \\\n",
       "0   United-States   <=50K  [-0.18960404004010267, 0.18960404004010267]   \n",
       "1   United-States   <=50K      [-1.490462261179387, 1.490462261179387]   \n",
       "2   United-States   <=50K    [0.8791101642782889, -0.8791101642782889]   \n",
       "3   United-States   <=50K    [1.0997351445251138, -1.0997351445251138]   \n",
       "\n",
       "                                 probability  prediction  \n",
       "0   [0.4527404856483953, 0.5472595143516047]         1.0  \n",
       "1   [0.18385235468441496, 0.816147645315585]         1.0  \n",
       "2  [0.7066377913399012, 0.29336220866009877]         0.0  \n",
       "3  [0.7502104763674187, 0.24978952363258133]         0.0  "
      ]
     },
     "execution_count": 23,
     "metadata": {},
     "output_type": "execute_result"
    }
   ],
   "source": [
    "# rawPrediction 预测的原始数据，prediction分类结果\n",
    "pd.DataFrame(predictions.take(4), columns = predictions.columns)"
   ]
  },
  {
   "cell_type": "code",
   "execution_count": 24,
   "metadata": {},
   "outputs": [
    {
     "name": "stdout",
     "output_type": "stream",
     "text": [
      "AUC： 0.9062153434371653\n"
     ]
    }
   ],
   "source": [
    "from pyspark.ml.evaluation import BinaryClassificationEvaluator\n",
    "# 模型评估，通过原始数据 rawPrediction计算AUC\n",
    "evaluator = BinaryClassificationEvaluator(rawPredictionCol=\"rawPrediction\")\n",
    "print('AUC：', evaluator.evaluate(predictions))"
   ]
  },
  {
   "cell_type": "code",
   "execution_count": 25,
   "metadata": {},
   "outputs": [
    {
     "data": {
      "text/plain": [
       "'areaUnderROC'"
      ]
     },
     "execution_count": 25,
     "metadata": {},
     "output_type": "execute_result"
    }
   ],
   "source": [
    "evaluator.getMetricName()"
   ]
  },
  {
   "cell_type": "code",
   "execution_count": 26,
   "metadata": {
    "collapsed": true,
    "jupyter": {
     "outputs_hidden": true
    },
    "tags": []
   },
   "outputs": [
    {
     "name": "stdout",
     "output_type": "stream",
     "text": [
      "aggregationDepth: suggested depth for treeAggregate (>= 2). (default: 2)\n",
      "elasticNetParam: the ElasticNet mixing parameter, in range [0, 1]. For alpha = 0, the penalty is an L2 penalty. For alpha = 1, it is an L1 penalty. (default: 0.0)\n",
      "family: The name of family which is a description of the label distribution to be used in the model. Supported options: auto, binomial, multinomial (default: auto)\n",
      "featuresCol: features column name. (default: features, current: features)\n",
      "fitIntercept: whether to fit an intercept term. (default: True)\n",
      "labelCol: label column name. (default: label, current: label)\n",
      "lowerBoundsOnCoefficients: The lower bounds on coefficients if fitting under bound constrained optimization. The bound matrix must be compatible with the shape (1, number of features) for binomial regression, or (number of classes, number of features) for multinomial regression. (undefined)\n",
      "lowerBoundsOnIntercepts: The lower bounds on intercepts if fitting under bound constrained optimization. The bounds vector size must beequal with 1 for binomial regression, or the number oflasses for multinomial regression. (undefined)\n",
      "maxBlockSizeInMB: maximum memory in MB for stacking input data into blocks. Data is stacked within partitions. If more than remaining data size in a partition then it is adjusted to the data size. Default 0.0 represents choosing optimal value, depends on specific algorithm. Must be >= 0. (default: 0.0)\n",
      "maxIter: max number of iterations (>= 0). (default: 100, current: 10)\n",
      "predictionCol: prediction column name. (default: prediction)\n",
      "probabilityCol: Column name for predicted class conditional probabilities. Note: Not all models output well-calibrated probability estimates! These probabilities should be treated as confidences, not precise probabilities. (default: probability)\n",
      "rawPredictionCol: raw prediction (a.k.a. confidence) column name. (default: rawPrediction)\n",
      "regParam: regularization parameter (>= 0). (default: 0.0)\n",
      "standardization: whether to standardize the training features before fitting the model. (default: True)\n",
      "threshold: Threshold in binary classification prediction, in range [0, 1]. If threshold and thresholds are both set, they must match.e.g. if threshold is p, then thresholds must be equal to [1-p, p]. (default: 0.5)\n",
      "thresholds: Thresholds in multi-class classification to adjust the probability of predicting each class. Array must have length equal to the number of classes, with values > 0, excepting that at most one value may be 0. The class with largest value p/t is predicted, where p is the original probability of that class and t is the class's threshold. (undefined)\n",
      "tol: the convergence tolerance for iterative algorithms (>= 0). (default: 1e-06)\n",
      "upperBoundsOnCoefficients: The upper bounds on coefficients if fitting under bound constrained optimization. The bound matrix must be compatible with the shape (1, number of features) for binomial regression, or (number of classes, number of features) for multinomial regression. (undefined)\n",
      "upperBoundsOnIntercepts: The upper bounds on intercepts if fitting under bound constrained optimization. The bound vector size must be equal with 1 for binomial regression, or the number of classes for multinomial regression. (undefined)\n",
      "weightCol: weight column name. If this is not set or empty, we treat all instance weights as 1.0. (undefined)\n"
     ]
    }
   ],
   "source": [
    "\n",
    "print(lr.explainParams())"
   ]
  },
  {
   "cell_type": "code",
   "execution_count": 27,
   "metadata": {},
   "outputs": [],
   "source": [
    "from pyspark.ml.tuning import ParamGridBuilder, CrossValidator\n",
    "\n",
    "# 创建网络参数，用于交叉验证\n",
    "param_grid = (ParamGridBuilder()\n",
    "             .addGrid(lr.regParam, [0.01, 0.5, 2.0])\n",
    "             .addGrid(lr.elasticNetParam, [0.0, 0.5, 1.0])\n",
    "             .addGrid(lr.maxIter, [1, 5, 10])\n",
    "             .build())"
   ]
  },
  {
   "cell_type": "code",
   "execution_count": 28,
   "metadata": {},
   "outputs": [],
   "source": [
    "# 五折交叉验证，设置模型，网格参数，验证方法，折数\n",
    "cv = CrossValidator(estimator=lr, estimatorParamMaps=param_grid, evaluator=evaluator, numFolds=5)\n",
    "# 交叉验证运行\n",
    "cv_model = cv.fit(train)"
   ]
  },
  {
   "cell_type": "code",
   "execution_count": 29,
   "metadata": {
    "collapsed": true,
    "jupyter": {
     "outputs_hidden": true
    },
    "tags": []
   },
   "outputs": [
    {
     "name": "stdout",
     "output_type": "stream",
     "text": [
      "collectSubModels: Param for whether to collect a list of sub-models trained during tuning. If set to false, then only the single best sub-model will be available after fitting. If set to true, then all sub-models will be available. Warning: For large models, collecting all sub-models can cause OOMs on the Spark driver. (default: False)\n",
      "estimator: estimator to be cross-validated (current: LogisticRegression_2ffa2f7a62da)\n",
      "estimatorParamMaps: estimator param maps (current: [{Param(parent='LogisticRegression_2ffa2f7a62da', name='regParam', doc='regularization parameter (>= 0).'): 0.01, Param(parent='LogisticRegression_2ffa2f7a62da', name='elasticNetParam', doc='the ElasticNet mixing parameter, in range [0, 1]. For alpha = 0, the penalty is an L2 penalty. For alpha = 1, it is an L1 penalty.'): 0.0, Param(parent='LogisticRegression_2ffa2f7a62da', name='maxIter', doc='max number of iterations (>= 0).'): 1}, {Param(parent='LogisticRegression_2ffa2f7a62da', name='regParam', doc='regularization parameter (>= 0).'): 0.01, Param(parent='LogisticRegression_2ffa2f7a62da', name='elasticNetParam', doc='the ElasticNet mixing parameter, in range [0, 1]. For alpha = 0, the penalty is an L2 penalty. For alpha = 1, it is an L1 penalty.'): 0.0, Param(parent='LogisticRegression_2ffa2f7a62da', name='maxIter', doc='max number of iterations (>= 0).'): 5}, {Param(parent='LogisticRegression_2ffa2f7a62da', name='regParam', doc='regularization parameter (>= 0).'): 0.01, Param(parent='LogisticRegression_2ffa2f7a62da', name='elasticNetParam', doc='the ElasticNet mixing parameter, in range [0, 1]. For alpha = 0, the penalty is an L2 penalty. For alpha = 1, it is an L1 penalty.'): 0.0, Param(parent='LogisticRegression_2ffa2f7a62da', name='maxIter', doc='max number of iterations (>= 0).'): 10}, {Param(parent='LogisticRegression_2ffa2f7a62da', name='regParam', doc='regularization parameter (>= 0).'): 0.01, Param(parent='LogisticRegression_2ffa2f7a62da', name='elasticNetParam', doc='the ElasticNet mixing parameter, in range [0, 1]. For alpha = 0, the penalty is an L2 penalty. For alpha = 1, it is an L1 penalty.'): 0.5, Param(parent='LogisticRegression_2ffa2f7a62da', name='maxIter', doc='max number of iterations (>= 0).'): 1}, {Param(parent='LogisticRegression_2ffa2f7a62da', name='regParam', doc='regularization parameter (>= 0).'): 0.01, Param(parent='LogisticRegression_2ffa2f7a62da', name='elasticNetParam', doc='the ElasticNet mixing parameter, in range [0, 1]. For alpha = 0, the penalty is an L2 penalty. For alpha = 1, it is an L1 penalty.'): 0.5, Param(parent='LogisticRegression_2ffa2f7a62da', name='maxIter', doc='max number of iterations (>= 0).'): 5}, {Param(parent='LogisticRegression_2ffa2f7a62da', name='regParam', doc='regularization parameter (>= 0).'): 0.01, Param(parent='LogisticRegression_2ffa2f7a62da', name='elasticNetParam', doc='the ElasticNet mixing parameter, in range [0, 1]. For alpha = 0, the penalty is an L2 penalty. For alpha = 1, it is an L1 penalty.'): 0.5, Param(parent='LogisticRegression_2ffa2f7a62da', name='maxIter', doc='max number of iterations (>= 0).'): 10}, {Param(parent='LogisticRegression_2ffa2f7a62da', name='regParam', doc='regularization parameter (>= 0).'): 0.01, Param(parent='LogisticRegression_2ffa2f7a62da', name='elasticNetParam', doc='the ElasticNet mixing parameter, in range [0, 1]. For alpha = 0, the penalty is an L2 penalty. For alpha = 1, it is an L1 penalty.'): 1.0, Param(parent='LogisticRegression_2ffa2f7a62da', name='maxIter', doc='max number of iterations (>= 0).'): 1}, {Param(parent='LogisticRegression_2ffa2f7a62da', name='regParam', doc='regularization parameter (>= 0).'): 0.01, Param(parent='LogisticRegression_2ffa2f7a62da', name='elasticNetParam', doc='the ElasticNet mixing parameter, in range [0, 1]. For alpha = 0, the penalty is an L2 penalty. For alpha = 1, it is an L1 penalty.'): 1.0, Param(parent='LogisticRegression_2ffa2f7a62da', name='maxIter', doc='max number of iterations (>= 0).'): 5}, {Param(parent='LogisticRegression_2ffa2f7a62da', name='regParam', doc='regularization parameter (>= 0).'): 0.01, Param(parent='LogisticRegression_2ffa2f7a62da', name='elasticNetParam', doc='the ElasticNet mixing parameter, in range [0, 1]. For alpha = 0, the penalty is an L2 penalty. For alpha = 1, it is an L1 penalty.'): 1.0, Param(parent='LogisticRegression_2ffa2f7a62da', name='maxIter', doc='max number of iterations (>= 0).'): 10}, {Param(parent='LogisticRegression_2ffa2f7a62da', name='regParam', doc='regularization parameter (>= 0).'): 0.5, Param(parent='LogisticRegression_2ffa2f7a62da', name='elasticNetParam', doc='the ElasticNet mixing parameter, in range [0, 1]. For alpha = 0, the penalty is an L2 penalty. For alpha = 1, it is an L1 penalty.'): 0.0, Param(parent='LogisticRegression_2ffa2f7a62da', name='maxIter', doc='max number of iterations (>= 0).'): 1}, {Param(parent='LogisticRegression_2ffa2f7a62da', name='regParam', doc='regularization parameter (>= 0).'): 0.5, Param(parent='LogisticRegression_2ffa2f7a62da', name='elasticNetParam', doc='the ElasticNet mixing parameter, in range [0, 1]. For alpha = 0, the penalty is an L2 penalty. For alpha = 1, it is an L1 penalty.'): 0.0, Param(parent='LogisticRegression_2ffa2f7a62da', name='maxIter', doc='max number of iterations (>= 0).'): 5}, {Param(parent='LogisticRegression_2ffa2f7a62da', name='regParam', doc='regularization parameter (>= 0).'): 0.5, Param(parent='LogisticRegression_2ffa2f7a62da', name='elasticNetParam', doc='the ElasticNet mixing parameter, in range [0, 1]. For alpha = 0, the penalty is an L2 penalty. For alpha = 1, it is an L1 penalty.'): 0.0, Param(parent='LogisticRegression_2ffa2f7a62da', name='maxIter', doc='max number of iterations (>= 0).'): 10}, {Param(parent='LogisticRegression_2ffa2f7a62da', name='regParam', doc='regularization parameter (>= 0).'): 0.5, Param(parent='LogisticRegression_2ffa2f7a62da', name='elasticNetParam', doc='the ElasticNet mixing parameter, in range [0, 1]. For alpha = 0, the penalty is an L2 penalty. For alpha = 1, it is an L1 penalty.'): 0.5, Param(parent='LogisticRegression_2ffa2f7a62da', name='maxIter', doc='max number of iterations (>= 0).'): 1}, {Param(parent='LogisticRegression_2ffa2f7a62da', name='regParam', doc='regularization parameter (>= 0).'): 0.5, Param(parent='LogisticRegression_2ffa2f7a62da', name='elasticNetParam', doc='the ElasticNet mixing parameter, in range [0, 1]. For alpha = 0, the penalty is an L2 penalty. For alpha = 1, it is an L1 penalty.'): 0.5, Param(parent='LogisticRegression_2ffa2f7a62da', name='maxIter', doc='max number of iterations (>= 0).'): 5}, {Param(parent='LogisticRegression_2ffa2f7a62da', name='regParam', doc='regularization parameter (>= 0).'): 0.5, Param(parent='LogisticRegression_2ffa2f7a62da', name='elasticNetParam', doc='the ElasticNet mixing parameter, in range [0, 1]. For alpha = 0, the penalty is an L2 penalty. For alpha = 1, it is an L1 penalty.'): 0.5, Param(parent='LogisticRegression_2ffa2f7a62da', name='maxIter', doc='max number of iterations (>= 0).'): 10}, {Param(parent='LogisticRegression_2ffa2f7a62da', name='regParam', doc='regularization parameter (>= 0).'): 0.5, Param(parent='LogisticRegression_2ffa2f7a62da', name='elasticNetParam', doc='the ElasticNet mixing parameter, in range [0, 1]. For alpha = 0, the penalty is an L2 penalty. For alpha = 1, it is an L1 penalty.'): 1.0, Param(parent='LogisticRegression_2ffa2f7a62da', name='maxIter', doc='max number of iterations (>= 0).'): 1}, {Param(parent='LogisticRegression_2ffa2f7a62da', name='regParam', doc='regularization parameter (>= 0).'): 0.5, Param(parent='LogisticRegression_2ffa2f7a62da', name='elasticNetParam', doc='the ElasticNet mixing parameter, in range [0, 1]. For alpha = 0, the penalty is an L2 penalty. For alpha = 1, it is an L1 penalty.'): 1.0, Param(parent='LogisticRegression_2ffa2f7a62da', name='maxIter', doc='max number of iterations (>= 0).'): 5}, {Param(parent='LogisticRegression_2ffa2f7a62da', name='regParam', doc='regularization parameter (>= 0).'): 0.5, Param(parent='LogisticRegression_2ffa2f7a62da', name='elasticNetParam', doc='the ElasticNet mixing parameter, in range [0, 1]. For alpha = 0, the penalty is an L2 penalty. For alpha = 1, it is an L1 penalty.'): 1.0, Param(parent='LogisticRegression_2ffa2f7a62da', name='maxIter', doc='max number of iterations (>= 0).'): 10}, {Param(parent='LogisticRegression_2ffa2f7a62da', name='regParam', doc='regularization parameter (>= 0).'): 2.0, Param(parent='LogisticRegression_2ffa2f7a62da', name='elasticNetParam', doc='the ElasticNet mixing parameter, in range [0, 1]. For alpha = 0, the penalty is an L2 penalty. For alpha = 1, it is an L1 penalty.'): 0.0, Param(parent='LogisticRegression_2ffa2f7a62da', name='maxIter', doc='max number of iterations (>= 0).'): 1}, {Param(parent='LogisticRegression_2ffa2f7a62da', name='regParam', doc='regularization parameter (>= 0).'): 2.0, Param(parent='LogisticRegression_2ffa2f7a62da', name='elasticNetParam', doc='the ElasticNet mixing parameter, in range [0, 1]. For alpha = 0, the penalty is an L2 penalty. For alpha = 1, it is an L1 penalty.'): 0.0, Param(parent='LogisticRegression_2ffa2f7a62da', name='maxIter', doc='max number of iterations (>= 0).'): 5}, {Param(parent='LogisticRegression_2ffa2f7a62da', name='regParam', doc='regularization parameter (>= 0).'): 2.0, Param(parent='LogisticRegression_2ffa2f7a62da', name='elasticNetParam', doc='the ElasticNet mixing parameter, in range [0, 1]. For alpha = 0, the penalty is an L2 penalty. For alpha = 1, it is an L1 penalty.'): 0.0, Param(parent='LogisticRegression_2ffa2f7a62da', name='maxIter', doc='max number of iterations (>= 0).'): 10}, {Param(parent='LogisticRegression_2ffa2f7a62da', name='regParam', doc='regularization parameter (>= 0).'): 2.0, Param(parent='LogisticRegression_2ffa2f7a62da', name='elasticNetParam', doc='the ElasticNet mixing parameter, in range [0, 1]. For alpha = 0, the penalty is an L2 penalty. For alpha = 1, it is an L1 penalty.'): 0.5, Param(parent='LogisticRegression_2ffa2f7a62da', name='maxIter', doc='max number of iterations (>= 0).'): 1}, {Param(parent='LogisticRegression_2ffa2f7a62da', name='regParam', doc='regularization parameter (>= 0).'): 2.0, Param(parent='LogisticRegression_2ffa2f7a62da', name='elasticNetParam', doc='the ElasticNet mixing parameter, in range [0, 1]. For alpha = 0, the penalty is an L2 penalty. For alpha = 1, it is an L1 penalty.'): 0.5, Param(parent='LogisticRegression_2ffa2f7a62da', name='maxIter', doc='max number of iterations (>= 0).'): 5}, {Param(parent='LogisticRegression_2ffa2f7a62da', name='regParam', doc='regularization parameter (>= 0).'): 2.0, Param(parent='LogisticRegression_2ffa2f7a62da', name='elasticNetParam', doc='the ElasticNet mixing parameter, in range [0, 1]. For alpha = 0, the penalty is an L2 penalty. For alpha = 1, it is an L1 penalty.'): 0.5, Param(parent='LogisticRegression_2ffa2f7a62da', name='maxIter', doc='max number of iterations (>= 0).'): 10}, {Param(parent='LogisticRegression_2ffa2f7a62da', name='regParam', doc='regularization parameter (>= 0).'): 2.0, Param(parent='LogisticRegression_2ffa2f7a62da', name='elasticNetParam', doc='the ElasticNet mixing parameter, in range [0, 1]. For alpha = 0, the penalty is an L2 penalty. For alpha = 1, it is an L1 penalty.'): 1.0, Param(parent='LogisticRegression_2ffa2f7a62da', name='maxIter', doc='max number of iterations (>= 0).'): 1}, {Param(parent='LogisticRegression_2ffa2f7a62da', name='regParam', doc='regularization parameter (>= 0).'): 2.0, Param(parent='LogisticRegression_2ffa2f7a62da', name='elasticNetParam', doc='the ElasticNet mixing parameter, in range [0, 1]. For alpha = 0, the penalty is an L2 penalty. For alpha = 1, it is an L1 penalty.'): 1.0, Param(parent='LogisticRegression_2ffa2f7a62da', name='maxIter', doc='max number of iterations (>= 0).'): 5}, {Param(parent='LogisticRegression_2ffa2f7a62da', name='regParam', doc='regularization parameter (>= 0).'): 2.0, Param(parent='LogisticRegression_2ffa2f7a62da', name='elasticNetParam', doc='the ElasticNet mixing parameter, in range [0, 1]. For alpha = 0, the penalty is an L2 penalty. For alpha = 1, it is an L1 penalty.'): 1.0, Param(parent='LogisticRegression_2ffa2f7a62da', name='maxIter', doc='max number of iterations (>= 0).'): 10}])\n",
      "evaluator: evaluator used to select hyper-parameters that maximize the validator metric (current: BinaryClassificationEvaluator_87a8549e1eac)\n",
      "foldCol: Param for the column name of user specified fold number. Once this is specified, :py:class:`CrossValidator` won't do random k-fold split. Note that this column should be integer type with range [0, numFolds) and Spark will throw exception on out-of-range fold numbers. (default: )\n",
      "numFolds: number of folds for cross validation (default: 3, current: 5)\n",
      "parallelism: the number of threads to use when running parallel algorithms (>= 1). (default: 1)\n",
      "seed: random seed. (default: -4860229909238062254)\n"
     ]
    }
   ],
   "source": [
    "# 查看cv有哪些参数可以调整\n",
    "print(cv.explainParams())"
   ]
  },
  {
   "cell_type": "code",
   "execution_count": 37,
   "metadata": {},
   "outputs": [
    {
     "name": "stdout",
     "output_type": "stream",
     "text": [
      "AUC： 0.9054096433333642\n"
     ]
    }
   ],
   "source": [
    "# 对于测试数据，使用五折交叉验证\n",
    "predictions = cv_model.transform(test)\n",
    "print('AUC：', evaluator.evaluate(predictions))"
   ]
  },
  {
   "cell_type": "code",
   "execution_count": 30,
   "metadata": {},
   "outputs": [],
   "source": [
    "\n",
    "from pyspark.ml.classification import DecisionTreeClassifier\n",
    "\n",
    "# 创建决策树模型\n",
    "dt = DecisionTreeClassifier(featuresCol = 'features', labelCol = 'label', maxDepth = 3)\n",
    "dt_model = dt.fit(train)"
   ]
  },
  {
   "cell_type": "code",
   "execution_count": 31,
   "metadata": {},
   "outputs": [
    {
     "name": "stdout",
     "output_type": "stream",
     "text": [
      "DecisionTreeClassificationModel: uid=DecisionTreeClassifier_3d9342284e19, depth=3, numNodes=11, numClasses=2, numFeatures=100\n",
      "  If (feature 23 in {0.0})\n",
      "   If (feature 97 <= 7792.0)\n",
      "    Predict: 0.0\n",
      "   Else (feature 97 > 7792.0)\n",
      "    If (feature 94 <= 19.5)\n",
      "     Predict: 0.0\n",
      "    Else (feature 94 > 19.5)\n",
      "     Predict: 1.0\n",
      "  Else (feature 23 not in {0.0})\n",
      "   If (feature 96 <= 12.5)\n",
      "    If (feature 97 <= 3460.0)\n",
      "     Predict: 0.0\n",
      "    Else (feature 97 > 3460.0)\n",
      "     Predict: 1.0\n",
      "   Else (feature 96 > 12.5)\n",
      "    Predict: 1.0\n",
      "\n"
     ]
    }
   ],
   "source": [
    "print(dt_model._call_java('toDebugString'))"
   ]
  },
  {
   "cell_type": "code",
   "execution_count": 32,
   "metadata": {},
   "outputs": [
    {
     "name": "stdout",
     "output_type": "stream",
     "text": [
      "numNodes =  11\n",
      "depth =  3\n"
     ]
    }
   ],
   "source": [
    "print(\"numNodes = \", dt_model.numNodes)\n",
    "print(\"depth = \", dt_model.depth)"
   ]
  },
  {
   "cell_type": "code",
   "execution_count": 33,
   "metadata": {},
   "outputs": [
    {
     "name": "stdout",
     "output_type": "stream",
     "text": [
      "root\n",
      " |-- label: double (nullable = false)\n",
      " |-- features: vector (nullable = true)\n",
      " |-- age: integer (nullable = true)\n",
      " |-- workclass: string (nullable = true)\n",
      " |-- fnlwgt: integer (nullable = true)\n",
      " |-- education: string (nullable = true)\n",
      " |-- education-num: integer (nullable = true)\n",
      " |-- marital-status: string (nullable = true)\n",
      " |-- occupation: string (nullable = true)\n",
      " |-- relationship: string (nullable = true)\n",
      " |-- race: string (nullable = true)\n",
      " |-- sex: string (nullable = true)\n",
      " |-- capital-gain: integer (nullable = true)\n",
      " |-- capital-loss: integer (nullable = true)\n",
      " |-- hours-per-week: integer (nullable = true)\n",
      " |-- native-country: string (nullable = true)\n",
      " |-- income: string (nullable = true)\n",
      " |-- rawPrediction: vector (nullable = true)\n",
      " |-- probability: vector (nullable = true)\n",
      " |-- prediction: double (nullable = false)\n",
      "\n"
     ]
    }
   ],
   "source": [
    "predictions = dt_model.transform(test)\n",
    "predictions.printSchema()\n"
   ]
  },
  {
   "cell_type": "code",
   "execution_count": 34,
   "metadata": {},
   "outputs": [
    {
     "data": {
      "text/plain": [
       "DataFrame[label: double, prediction: double, probability: vector, age: int, occupation: string]"
      ]
     },
     "metadata": {},
     "output_type": "display_data"
    }
   ],
   "source": [
    "selected = predictions.select(\"label\", \"prediction\", \"probability\", \"age\", \"occupation\")\n",
    "display(selected)"
   ]
  },
  {
   "cell_type": "code",
   "execution_count": 35,
   "metadata": {},
   "outputs": [
    {
     "data": {
      "text/plain": [
       "0.7451185461316444"
      ]
     },
     "execution_count": 35,
     "metadata": {},
     "output_type": "execute_result"
    }
   ],
   "source": [
    "\n",
    "from pyspark.ml.evaluation import BinaryClassificationEvaluator\n",
    "\n",
    "evaluator = BinaryClassificationEvaluator()\n",
    "evaluator.evaluate(predictions)"
   ]
  },
  {
   "cell_type": "code",
   "execution_count": 36,
   "metadata": {},
   "outputs": [],
   "source": [
    "from pyspark.ml.tuning import ParamGridBuilder, CrossValidator\n",
    "param_grid = (ParamGridBuilder()\n",
    "             .addGrid(dt.maxDepth, [1, 2, 6, 10])\n",
    "             .addGrid(dt.maxBins, [20, 40, 80])\n",
    "             .build())"
   ]
  },
  {
   "cell_type": "code",
   "execution_count": 37,
   "metadata": {},
   "outputs": [],
   "source": [
    "# 设置五折交叉验证\n",
    "cv = CrossValidator(estimator=dt, estimatorParamMaps=param_grid, evaluator=evaluator, numFolds=5)\n",
    "# 运行cv\n",
    "cv_model = cv.fit(train)"
   ]
  },
  {
   "cell_type": "code",
   "execution_count": 38,
   "metadata": {},
   "outputs": [
    {
     "name": "stdout",
     "output_type": "stream",
     "text": [
      "numNodes =  427\n",
      "depth =  10\n"
     ]
    }
   ],
   "source": [
    "# 查看最优模型\n",
    "print(\"numNodes = \", cv_model.bestModel.numNodes)\n",
    "print(\"depth = \", cv_model.bestModel.depth)"
   ]
  },
  {
   "cell_type": "code",
   "execution_count": 39,
   "metadata": {},
   "outputs": [
    {
     "data": {
      "text/plain": [
       "0.7841046678749348"
      ]
     },
     "execution_count": 39,
     "metadata": {},
     "output_type": "execute_result"
    }
   ],
   "source": [
    "# 使用五折交叉验证进行预测\n",
    "predictions = cv_model.transform(test)\n",
    "evaluator.evaluate(predictions)"
   ]
  },
  {
   "cell_type": "code",
   "execution_count": 40,
   "metadata": {},
   "outputs": [
    {
     "data": {
      "text/plain": [
       "DataFrame[label: double, prediction: double, probability: vector, age: int, occupation: string]"
      ]
     },
     "metadata": {},
     "output_type": "display_data"
    }
   ],
   "source": [
    "selected = predictions.select(\"label\", \"prediction\", \"probability\", \"age\", \"occupation\")\n",
    "display(selected)"
   ]
  },
  {
   "cell_type": "code",
   "execution_count": 41,
   "metadata": {},
   "outputs": [
    {
     "name": "stdout",
     "output_type": "stream",
     "text": [
      "+-----+----------+--------------------+---+---------------+\n",
      "|label|prediction|         probability|age|     occupation|\n",
      "+-----+----------+--------------------+---+---------------+\n",
      "|  0.0|       0.0|[0.78571428571428...| 32| Prof-specialty|\n",
      "|  0.0|       0.0|[0.88888888888888...| 36| Prof-specialty|\n",
      "|  0.0|       0.0|[0.87179487179487...| 26| Prof-specialty|\n",
      "+-----+----------+--------------------+---+---------------+\n",
      "only showing top 3 rows\n",
      "\n"
     ]
    }
   ],
   "source": [
    "selected.show(3)"
   ]
  },
  {
   "cell_type": "code",
   "execution_count": 42,
   "metadata": {},
   "outputs": [
    {
     "name": "stdout",
     "output_type": "stream",
     "text": [
      "root\n",
      " |-- label: double (nullable = false)\n",
      " |-- features: vector (nullable = true)\n",
      " |-- age: integer (nullable = true)\n",
      " |-- workclass: string (nullable = true)\n",
      " |-- fnlwgt: integer (nullable = true)\n",
      " |-- education: string (nullable = true)\n",
      " |-- education-num: integer (nullable = true)\n",
      " |-- marital-status: string (nullable = true)\n",
      " |-- occupation: string (nullable = true)\n",
      " |-- relationship: string (nullable = true)\n",
      " |-- race: string (nullable = true)\n",
      " |-- sex: string (nullable = true)\n",
      " |-- capital-gain: integer (nullable = true)\n",
      " |-- capital-loss: integer (nullable = true)\n",
      " |-- hours-per-week: integer (nullable = true)\n",
      " |-- native-country: string (nullable = true)\n",
      " |-- income: string (nullable = true)\n",
      " |-- rawPrediction: vector (nullable = true)\n",
      " |-- probability: vector (nullable = true)\n",
      " |-- prediction: double (nullable = false)\n",
      "\n"
     ]
    }
   ],
   "source": [
    "from pyspark.ml.classification import RandomForestClassifier\n",
    "# 随机森林\n",
    "rf = RandomForestClassifier(featuresCol = 'features', labelCol = 'label')\n",
    "rf_model = rf.fit(train)\n",
    "predictions = rf_model.transform(test)\n",
    "predictions.printSchema()\n"
   ]
  },
  {
   "cell_type": "code",
   "execution_count": 43,
   "metadata": {},
   "outputs": [
    {
     "data": {
      "text/plain": [
       "DataFrame[label: double, prediction: double, probability: vector, age: int, occupation: string]"
      ]
     },
     "metadata": {},
     "output_type": "display_data"
    }
   ],
   "source": [
    "\n",
    "selected = predictions.select(\"label\", \"prediction\", \"probability\", \"age\", \"occupation\")\n",
    "display(selected)\n"
   ]
  },
  {
   "cell_type": "code",
   "execution_count": 44,
   "metadata": {},
   "outputs": [
    {
     "name": "stdout",
     "output_type": "stream",
     "text": [
      "+-----+----------+--------------------+---+---------------+\n",
      "|label|prediction|         probability|age|     occupation|\n",
      "+-----+----------+--------------------+---+---------------+\n",
      "|  0.0|       0.0|[0.62977902198195...| 32| Prof-specialty|\n",
      "|  0.0|       0.0|[0.57127844737169...| 36| Prof-specialty|\n",
      "|  0.0|       0.0|[0.69996451574317...| 26| Prof-specialty|\n",
      "+-----+----------+--------------------+---+---------------+\n",
      "only showing top 3 rows\n",
      "\n"
     ]
    }
   ],
   "source": [
    "selected.show(3)"
   ]
  },
  {
   "cell_type": "code",
   "execution_count": 45,
   "metadata": {},
   "outputs": [
    {
     "data": {
      "text/plain": [
       "0.8971021068780939"
      ]
     },
     "execution_count": 45,
     "metadata": {},
     "output_type": "execute_result"
    }
   ],
   "source": [
    "\n",
    "evaluator = BinaryClassificationEvaluator()\n",
    "evaluator.evaluate(predictions)\n"
   ]
  },
  {
   "cell_type": "code",
   "execution_count": 46,
   "metadata": {},
   "outputs": [],
   "source": [
    "param_grid = (ParamGridBuilder()\n",
    "             .addGrid(rf.maxDepth, [3, 5, 7])\n",
    "             .addGrid(rf.maxBins, [20, 50])\n",
    "             .addGrid(rf.numTrees, [5, 10])\n",
    "             .build())"
   ]
  },
  {
   "cell_type": "code",
   "execution_count": 47,
   "metadata": {},
   "outputs": [],
   "source": [
    "cv = CrossValidator(estimator=rf, estimatorParamMaps=param_grid, evaluator=evaluator, numFolds=5)\n",
    "# 运行CV（大约6分钟）\n",
    "cv_model = cv.fit(train)"
   ]
  },
  {
   "cell_type": "code",
   "execution_count": 48,
   "metadata": {
    "tags": []
   },
   "outputs": [
    {
     "data": {
      "text/plain": [
       "0.8993895941899889"
      ]
     },
     "execution_count": 48,
     "metadata": {},
     "output_type": "execute_result"
    }
   ],
   "source": [
    "predictions = cv_model.transform(test)\n",
    "evaluator.evaluate(predictions)"
   ]
  },
  {
   "cell_type": "code",
   "execution_count": 49,
   "metadata": {},
   "outputs": [
    {
     "data": {
      "text/plain": [
       "DataFrame[label: double, prediction: double, probability: vector, age: int, occupation: string]"
      ]
     },
     "metadata": {},
     "output_type": "display_data"
    }
   ],
   "source": [
    "\n",
    "selected = predictions.select(\"label\", \"prediction\", \"probability\", \"age\", \"occupation\")\n",
    "display(selected)"
   ]
  },
  {
   "cell_type": "code",
   "execution_count": 50,
   "metadata": {},
   "outputs": [
    {
     "name": "stdout",
     "output_type": "stream",
     "text": [
      "+-----+----------+--------------------+---+---------------+\n",
      "|label|prediction|         probability|age|     occupation|\n",
      "+-----+----------+--------------------+---+---------------+\n",
      "|  0.0|       0.0|[0.60121334722878...| 32| Prof-specialty|\n",
      "|  0.0|       1.0|[0.46711906543176...| 36| Prof-specialty|\n",
      "|  0.0|       0.0|[0.72454251069028...| 26| Prof-specialty|\n",
      "+-----+----------+--------------------+---+---------------+\n",
      "only showing top 3 rows\n",
      "\n"
     ]
    }
   ],
   "source": [
    "selected.show(3)"
   ]
  },
  {
   "cell_type": "code",
   "execution_count": 51,
   "metadata": {},
   "outputs": [
    {
     "data": {
      "text/plain": [
       "0.8991549274847307"
      ]
     },
     "execution_count": 51,
     "metadata": {},
     "output_type": "execute_result"
    }
   ],
   "source": [
    "\n",
    "best_model = cv_model.bestModel\n",
    "final_predictions = best_model.transform(df)\n",
    "evaluator.evaluate(final_predictions)"
   ]
  },
  {
   "cell_type": "code",
   "execution_count": 52,
   "metadata": {},
   "outputs": [
    {
     "data": {
      "text/plain": [
       "RandomForestClassificationModel: uid=RandomForestClassifier_2212896af696, numTrees=10, numClasses=2, numFeatures=100"
      ]
     },
     "execution_count": 52,
     "metadata": {},
     "output_type": "execute_result"
    }
   ],
   "source": [
    "best_model"
   ]
  },
  {
   "cell_type": "code",
   "execution_count": 53,
   "metadata": {},
   "outputs": [
    {
     "data": {
      "text/plain": [
       "SparseVector(100, {0: 0.0004, 1: 0.0013, 2: 0.0, 3: 0.0001, 4: 0.0001, 5: 0.0141, 6: 0.0004, 8: 0.0109, 9: 0.0009, 10: 0.0185, 11: 0.0227, 13: 0.0039, 14: 0.0002, 15: 0.0, 16: 0.0043, 17: 0.001, 18: 0.0012, 19: 0.0003, 20: 0.0122, 21: 0.0, 23: 0.1612, 24: 0.063, 25: 0.0072, 26: 0.0003, 27: 0.0001, 29: 0.0112, 30: 0.0001, 31: 0.0061, 32: 0.0005, 33: 0.0001, 34: 0.0118, 35: 0.0004, 36: 0.0006, 37: 0.0002, 38: 0.0011, 39: 0.0016, 40: 0.0001, 41: 0.0002, 43: 0.1296, 44: 0.0462, 45: 0.0497, 46: 0.0074, 47: 0.0131, 48: 0.0004, 49: 0.0005, 50: 0.0002, 51: 0.0002, 52: 0.0016, 53: 0.0003, 54: 0.0001, 55: 0.0001, 56: 0.0, 61: 0.0005, 62: 0.0, 63: 0.0, 65: 0.0001, 67: 0.0002, 68: 0.0, 71: 0.0005, 72: 0.0001, 94: 0.0741, 95: 0.0029, 96: 0.035, 97: 0.1833, 98: 0.037, 99: 0.0589})"
      ]
     },
     "execution_count": 53,
     "metadata": {},
     "output_type": "execute_result"
    }
   ],
   "source": [
    "best_model.featureImportances"
   ]
  },
  {
   "cell_type": "code",
   "execution_count": 54,
   "metadata": {},
   "outputs": [
    {
     "data": {
      "text/plain": [
       "{'ml_attr': {'attrs': {'numeric': [{'idx': 94, 'name': 'age'},\n",
       "    {'idx': 95, 'name': 'fnlwgt'},\n",
       "    {'idx': 96, 'name': 'education-num'},\n",
       "    {'idx': 97, 'name': 'capital-gain'},\n",
       "    {'idx': 98, 'name': 'capital-loss'},\n",
       "    {'idx': 99, 'name': 'hours-per-week'}],\n",
       "   'binary': [{'idx': 0, 'name': 'workclass_one_hot_ Private'},\n",
       "    {'idx': 1, 'name': 'workclass_one_hot_ Self-emp-not-inc'},\n",
       "    {'idx': 2, 'name': 'workclass_one_hot_ Local-gov'},\n",
       "    {'idx': 3, 'name': 'workclass_one_hot_ ?'},\n",
       "    {'idx': 4, 'name': 'workclass_one_hot_ State-gov'},\n",
       "    {'idx': 5, 'name': 'workclass_one_hot_ Self-emp-inc'},\n",
       "    {'idx': 6, 'name': 'workclass_one_hot_ Federal-gov'},\n",
       "    {'idx': 7, 'name': 'workclass_one_hot_ Without-pay'},\n",
       "    {'idx': 8, 'name': 'education_one_hot_ HS-grad'},\n",
       "    {'idx': 9, 'name': 'education_one_hot_ Some-college'},\n",
       "    {'idx': 10, 'name': 'education_one_hot_ Bachelors'},\n",
       "    {'idx': 11, 'name': 'education_one_hot_ Masters'},\n",
       "    {'idx': 12, 'name': 'education_one_hot_ Assoc-voc'},\n",
       "    {'idx': 13, 'name': 'education_one_hot_ 11th'},\n",
       "    {'idx': 14, 'name': 'education_one_hot_ Assoc-acdm'},\n",
       "    {'idx': 15, 'name': 'education_one_hot_ 10th'},\n",
       "    {'idx': 16, 'name': 'education_one_hot_ 7th-8th'},\n",
       "    {'idx': 17, 'name': 'education_one_hot_ Prof-school'},\n",
       "    {'idx': 18, 'name': 'education_one_hot_ 9th'},\n",
       "    {'idx': 19, 'name': 'education_one_hot_ 12th'},\n",
       "    {'idx': 20, 'name': 'education_one_hot_ Doctorate'},\n",
       "    {'idx': 21, 'name': 'education_one_hot_ 5th-6th'},\n",
       "    {'idx': 22, 'name': 'education_one_hot_ 1st-4th'},\n",
       "    {'idx': 23, 'name': 'marital-status_one_hot_ Married-civ-spouse'},\n",
       "    {'idx': 24, 'name': 'marital-status_one_hot_ Never-married'},\n",
       "    {'idx': 25, 'name': 'marital-status_one_hot_ Divorced'},\n",
       "    {'idx': 26, 'name': 'marital-status_one_hot_ Separated'},\n",
       "    {'idx': 27, 'name': 'marital-status_one_hot_ Widowed'},\n",
       "    {'idx': 28, 'name': 'marital-status_one_hot_ Married-spouse-absent'},\n",
       "    {'idx': 29, 'name': 'occupation_one_hot_ Prof-specialty'},\n",
       "    {'idx': 30, 'name': 'occupation_one_hot_ Craft-repair'},\n",
       "    {'idx': 31, 'name': 'occupation_one_hot_ Exec-managerial'},\n",
       "    {'idx': 32, 'name': 'occupation_one_hot_ Adm-clerical'},\n",
       "    {'idx': 33, 'name': 'occupation_one_hot_ Sales'},\n",
       "    {'idx': 34, 'name': 'occupation_one_hot_ Other-service'},\n",
       "    {'idx': 35, 'name': 'occupation_one_hot_ Machine-op-inspct'},\n",
       "    {'idx': 36, 'name': 'occupation_one_hot_ ?'},\n",
       "    {'idx': 37, 'name': 'occupation_one_hot_ Transport-moving'},\n",
       "    {'idx': 38, 'name': 'occupation_one_hot_ Handlers-cleaners'},\n",
       "    {'idx': 39, 'name': 'occupation_one_hot_ Farming-fishing'},\n",
       "    {'idx': 40, 'name': 'occupation_one_hot_ Tech-support'},\n",
       "    {'idx': 41, 'name': 'occupation_one_hot_ Protective-serv'},\n",
       "    {'idx': 42, 'name': 'occupation_one_hot_ Priv-house-serv'},\n",
       "    {'idx': 43, 'name': 'relationship_one_hot_ Husband'},\n",
       "    {'idx': 44, 'name': 'relationship_one_hot_ Not-in-family'},\n",
       "    {'idx': 45, 'name': 'relationship_one_hot_ Own-child'},\n",
       "    {'idx': 46, 'name': 'relationship_one_hot_ Unmarried'},\n",
       "    {'idx': 47, 'name': 'relationship_one_hot_ Wife'},\n",
       "    {'idx': 48, 'name': 'race_one_hot_ White'},\n",
       "    {'idx': 49, 'name': 'race_one_hot_ Black'},\n",
       "    {'idx': 50, 'name': 'race_one_hot_ Asian-Pac-Islander'},\n",
       "    {'idx': 51, 'name': 'race_one_hot_ Amer-Indian-Eskimo'},\n",
       "    {'idx': 52, 'name': 'sex_one_hot_ Male'},\n",
       "    {'idx': 53, 'name': 'native-country_one_hot_ United-States'},\n",
       "    {'idx': 54, 'name': 'native-country_one_hot_ Mexico'},\n",
       "    {'idx': 55, 'name': 'native-country_one_hot_ ?'},\n",
       "    {'idx': 56, 'name': 'native-country_one_hot_ Philippines'},\n",
       "    {'idx': 57, 'name': 'native-country_one_hot_ Germany'},\n",
       "    {'idx': 58, 'name': 'native-country_one_hot_ Canada'},\n",
       "    {'idx': 59, 'name': 'native-country_one_hot_ Puerto-Rico'},\n",
       "    {'idx': 60, 'name': 'native-country_one_hot_ El-Salvador'},\n",
       "    {'idx': 61, 'name': 'native-country_one_hot_ India'},\n",
       "    {'idx': 62, 'name': 'native-country_one_hot_ Cuba'},\n",
       "    {'idx': 63, 'name': 'native-country_one_hot_ England'},\n",
       "    {'idx': 64, 'name': 'native-country_one_hot_ Jamaica'},\n",
       "    {'idx': 65, 'name': 'native-country_one_hot_ South'},\n",
       "    {'idx': 66, 'name': 'native-country_one_hot_ China'},\n",
       "    {'idx': 67, 'name': 'native-country_one_hot_ Italy'},\n",
       "    {'idx': 68, 'name': 'native-country_one_hot_ Dominican-Republic'},\n",
       "    {'idx': 69, 'name': 'native-country_one_hot_ Vietnam'},\n",
       "    {'idx': 70, 'name': 'native-country_one_hot_ Guatemala'},\n",
       "    {'idx': 71, 'name': 'native-country_one_hot_ Japan'},\n",
       "    {'idx': 72, 'name': 'native-country_one_hot_ Poland'},\n",
       "    {'idx': 73, 'name': 'native-country_one_hot_ Columbia'},\n",
       "    {'idx': 74, 'name': 'native-country_one_hot_ Taiwan'},\n",
       "    {'idx': 75, 'name': 'native-country_one_hot_ Haiti'},\n",
       "    {'idx': 76, 'name': 'native-country_one_hot_ Iran'},\n",
       "    {'idx': 77, 'name': 'native-country_one_hot_ Portugal'},\n",
       "    {'idx': 78, 'name': 'native-country_one_hot_ Nicaragua'},\n",
       "    {'idx': 79, 'name': 'native-country_one_hot_ Peru'},\n",
       "    {'idx': 80, 'name': 'native-country_one_hot_ France'},\n",
       "    {'idx': 81, 'name': 'native-country_one_hot_ Greece'},\n",
       "    {'idx': 82, 'name': 'native-country_one_hot_ Ecuador'},\n",
       "    {'idx': 83, 'name': 'native-country_one_hot_ Ireland'},\n",
       "    {'idx': 84, 'name': 'native-country_one_hot_ Hong'},\n",
       "    {'idx': 85, 'name': 'native-country_one_hot_ Cambodia'},\n",
       "    {'idx': 86, 'name': 'native-country_one_hot_ Trinadad&Tobago'},\n",
       "    {'idx': 87, 'name': 'native-country_one_hot_ Laos'},\n",
       "    {'idx': 88, 'name': 'native-country_one_hot_ Thailand'},\n",
       "    {'idx': 89, 'name': 'native-country_one_hot_ Yugoslavia'},\n",
       "    {'idx': 90, 'name': 'native-country_one_hot_ Outlying-US(Guam-USVI-etc)'},\n",
       "    {'idx': 91, 'name': 'native-country_one_hot_ Honduras'},\n",
       "    {'idx': 92, 'name': 'native-country_one_hot_ Hungary'},\n",
       "    {'idx': 93, 'name': 'native-country_one_hot_ Scotland'}]},\n",
       "  'num_attrs': 100}}"
      ]
     },
     "execution_count": 54,
     "metadata": {},
     "output_type": "execute_result"
    }
   ],
   "source": [
    "df.schema['features'].metadata"
   ]
  },
  {
   "cell_type": "code",
   "execution_count": 55,
   "metadata": {},
   "outputs": [
    {
     "data": {
      "text/plain": [
       "{'numeric': [{'idx': 94, 'name': 'age'},\n",
       "  {'idx': 95, 'name': 'fnlwgt'},\n",
       "  {'idx': 96, 'name': 'education-num'},\n",
       "  {'idx': 97, 'name': 'capital-gain'},\n",
       "  {'idx': 98, 'name': 'capital-loss'},\n",
       "  {'idx': 99, 'name': 'hours-per-week'}],\n",
       " 'binary': [{'idx': 0, 'name': 'workclass_one_hot_ Private'},\n",
       "  {'idx': 1, 'name': 'workclass_one_hot_ Self-emp-not-inc'},\n",
       "  {'idx': 2, 'name': 'workclass_one_hot_ Local-gov'},\n",
       "  {'idx': 3, 'name': 'workclass_one_hot_ ?'},\n",
       "  {'idx': 4, 'name': 'workclass_one_hot_ State-gov'},\n",
       "  {'idx': 5, 'name': 'workclass_one_hot_ Self-emp-inc'},\n",
       "  {'idx': 6, 'name': 'workclass_one_hot_ Federal-gov'},\n",
       "  {'idx': 7, 'name': 'workclass_one_hot_ Without-pay'},\n",
       "  {'idx': 8, 'name': 'education_one_hot_ HS-grad'},\n",
       "  {'idx': 9, 'name': 'education_one_hot_ Some-college'},\n",
       "  {'idx': 10, 'name': 'education_one_hot_ Bachelors'},\n",
       "  {'idx': 11, 'name': 'education_one_hot_ Masters'},\n",
       "  {'idx': 12, 'name': 'education_one_hot_ Assoc-voc'},\n",
       "  {'idx': 13, 'name': 'education_one_hot_ 11th'},\n",
       "  {'idx': 14, 'name': 'education_one_hot_ Assoc-acdm'},\n",
       "  {'idx': 15, 'name': 'education_one_hot_ 10th'},\n",
       "  {'idx': 16, 'name': 'education_one_hot_ 7th-8th'},\n",
       "  {'idx': 17, 'name': 'education_one_hot_ Prof-school'},\n",
       "  {'idx': 18, 'name': 'education_one_hot_ 9th'},\n",
       "  {'idx': 19, 'name': 'education_one_hot_ 12th'},\n",
       "  {'idx': 20, 'name': 'education_one_hot_ Doctorate'},\n",
       "  {'idx': 21, 'name': 'education_one_hot_ 5th-6th'},\n",
       "  {'idx': 22, 'name': 'education_one_hot_ 1st-4th'},\n",
       "  {'idx': 23, 'name': 'marital-status_one_hot_ Married-civ-spouse'},\n",
       "  {'idx': 24, 'name': 'marital-status_one_hot_ Never-married'},\n",
       "  {'idx': 25, 'name': 'marital-status_one_hot_ Divorced'},\n",
       "  {'idx': 26, 'name': 'marital-status_one_hot_ Separated'},\n",
       "  {'idx': 27, 'name': 'marital-status_one_hot_ Widowed'},\n",
       "  {'idx': 28, 'name': 'marital-status_one_hot_ Married-spouse-absent'},\n",
       "  {'idx': 29, 'name': 'occupation_one_hot_ Prof-specialty'},\n",
       "  {'idx': 30, 'name': 'occupation_one_hot_ Craft-repair'},\n",
       "  {'idx': 31, 'name': 'occupation_one_hot_ Exec-managerial'},\n",
       "  {'idx': 32, 'name': 'occupation_one_hot_ Adm-clerical'},\n",
       "  {'idx': 33, 'name': 'occupation_one_hot_ Sales'},\n",
       "  {'idx': 34, 'name': 'occupation_one_hot_ Other-service'},\n",
       "  {'idx': 35, 'name': 'occupation_one_hot_ Machine-op-inspct'},\n",
       "  {'idx': 36, 'name': 'occupation_one_hot_ ?'},\n",
       "  {'idx': 37, 'name': 'occupation_one_hot_ Transport-moving'},\n",
       "  {'idx': 38, 'name': 'occupation_one_hot_ Handlers-cleaners'},\n",
       "  {'idx': 39, 'name': 'occupation_one_hot_ Farming-fishing'},\n",
       "  {'idx': 40, 'name': 'occupation_one_hot_ Tech-support'},\n",
       "  {'idx': 41, 'name': 'occupation_one_hot_ Protective-serv'},\n",
       "  {'idx': 42, 'name': 'occupation_one_hot_ Priv-house-serv'},\n",
       "  {'idx': 43, 'name': 'relationship_one_hot_ Husband'},\n",
       "  {'idx': 44, 'name': 'relationship_one_hot_ Not-in-family'},\n",
       "  {'idx': 45, 'name': 'relationship_one_hot_ Own-child'},\n",
       "  {'idx': 46, 'name': 'relationship_one_hot_ Unmarried'},\n",
       "  {'idx': 47, 'name': 'relationship_one_hot_ Wife'},\n",
       "  {'idx': 48, 'name': 'race_one_hot_ White'},\n",
       "  {'idx': 49, 'name': 'race_one_hot_ Black'},\n",
       "  {'idx': 50, 'name': 'race_one_hot_ Asian-Pac-Islander'},\n",
       "  {'idx': 51, 'name': 'race_one_hot_ Amer-Indian-Eskimo'},\n",
       "  {'idx': 52, 'name': 'sex_one_hot_ Male'},\n",
       "  {'idx': 53, 'name': 'native-country_one_hot_ United-States'},\n",
       "  {'idx': 54, 'name': 'native-country_one_hot_ Mexico'},\n",
       "  {'idx': 55, 'name': 'native-country_one_hot_ ?'},\n",
       "  {'idx': 56, 'name': 'native-country_one_hot_ Philippines'},\n",
       "  {'idx': 57, 'name': 'native-country_one_hot_ Germany'},\n",
       "  {'idx': 58, 'name': 'native-country_one_hot_ Canada'},\n",
       "  {'idx': 59, 'name': 'native-country_one_hot_ Puerto-Rico'},\n",
       "  {'idx': 60, 'name': 'native-country_one_hot_ El-Salvador'},\n",
       "  {'idx': 61, 'name': 'native-country_one_hot_ India'},\n",
       "  {'idx': 62, 'name': 'native-country_one_hot_ Cuba'},\n",
       "  {'idx': 63, 'name': 'native-country_one_hot_ England'},\n",
       "  {'idx': 64, 'name': 'native-country_one_hot_ Jamaica'},\n",
       "  {'idx': 65, 'name': 'native-country_one_hot_ South'},\n",
       "  {'idx': 66, 'name': 'native-country_one_hot_ China'},\n",
       "  {'idx': 67, 'name': 'native-country_one_hot_ Italy'},\n",
       "  {'idx': 68, 'name': 'native-country_one_hot_ Dominican-Republic'},\n",
       "  {'idx': 69, 'name': 'native-country_one_hot_ Vietnam'},\n",
       "  {'idx': 70, 'name': 'native-country_one_hot_ Guatemala'},\n",
       "  {'idx': 71, 'name': 'native-country_one_hot_ Japan'},\n",
       "  {'idx': 72, 'name': 'native-country_one_hot_ Poland'},\n",
       "  {'idx': 73, 'name': 'native-country_one_hot_ Columbia'},\n",
       "  {'idx': 74, 'name': 'native-country_one_hot_ Taiwan'},\n",
       "  {'idx': 75, 'name': 'native-country_one_hot_ Haiti'},\n",
       "  {'idx': 76, 'name': 'native-country_one_hot_ Iran'},\n",
       "  {'idx': 77, 'name': 'native-country_one_hot_ Portugal'},\n",
       "  {'idx': 78, 'name': 'native-country_one_hot_ Nicaragua'},\n",
       "  {'idx': 79, 'name': 'native-country_one_hot_ Peru'},\n",
       "  {'idx': 80, 'name': 'native-country_one_hot_ France'},\n",
       "  {'idx': 81, 'name': 'native-country_one_hot_ Greece'},\n",
       "  {'idx': 82, 'name': 'native-country_one_hot_ Ecuador'},\n",
       "  {'idx': 83, 'name': 'native-country_one_hot_ Ireland'},\n",
       "  {'idx': 84, 'name': 'native-country_one_hot_ Hong'},\n",
       "  {'idx': 85, 'name': 'native-country_one_hot_ Cambodia'},\n",
       "  {'idx': 86, 'name': 'native-country_one_hot_ Trinadad&Tobago'},\n",
       "  {'idx': 87, 'name': 'native-country_one_hot_ Laos'},\n",
       "  {'idx': 88, 'name': 'native-country_one_hot_ Thailand'},\n",
       "  {'idx': 89, 'name': 'native-country_one_hot_ Yugoslavia'},\n",
       "  {'idx': 90, 'name': 'native-country_one_hot_ Outlying-US(Guam-USVI-etc)'},\n",
       "  {'idx': 91, 'name': 'native-country_one_hot_ Honduras'},\n",
       "  {'idx': 92, 'name': 'native-country_one_hot_ Hungary'},\n",
       "  {'idx': 93, 'name': 'native-country_one_hot_ Scotland'}]}"
      ]
     },
     "execution_count": 55,
     "metadata": {},
     "output_type": "execute_result"
    }
   ],
   "source": [
    "temp = df.schema[\"features\"].metadata[\"ml_attr\"][\"attrs\"]\n",
    "temp\n"
   ]
  },
  {
   "cell_type": "code",
   "execution_count": 56,
   "metadata": {},
   "outputs": [
    {
     "data": {
      "text/html": [
       "<div>\n",
       "<style scoped>\n",
       "    .dataframe tbody tr th:only-of-type {\n",
       "        vertical-align: middle;\n",
       "    }\n",
       "\n",
       "    .dataframe tbody tr th {\n",
       "        vertical-align: top;\n",
       "    }\n",
       "\n",
       "    .dataframe thead th {\n",
       "        text-align: right;\n",
       "    }\n",
       "</style>\n",
       "<table border=\"1\" class=\"dataframe\">\n",
       "  <thead>\n",
       "    <tr style=\"text-align: right;\">\n",
       "      <th></th>\n",
       "      <th>idx</th>\n",
       "      <th>name</th>\n",
       "    </tr>\n",
       "  </thead>\n",
       "  <tbody>\n",
       "    <tr>\n",
       "      <th>0</th>\n",
       "      <td>94</td>\n",
       "      <td>age</td>\n",
       "    </tr>\n",
       "    <tr>\n",
       "      <th>1</th>\n",
       "      <td>95</td>\n",
       "      <td>fnlwgt</td>\n",
       "    </tr>\n",
       "    <tr>\n",
       "      <th>2</th>\n",
       "      <td>96</td>\n",
       "      <td>education-num</td>\n",
       "    </tr>\n",
       "    <tr>\n",
       "      <th>3</th>\n",
       "      <td>97</td>\n",
       "      <td>capital-gain</td>\n",
       "    </tr>\n",
       "    <tr>\n",
       "      <th>4</th>\n",
       "      <td>98</td>\n",
       "      <td>capital-loss</td>\n",
       "    </tr>\n",
       "    <tr>\n",
       "      <th>5</th>\n",
       "      <td>99</td>\n",
       "      <td>hours-per-week</td>\n",
       "    </tr>\n",
       "  </tbody>\n",
       "</table>\n",
       "</div>"
      ],
      "text/plain": [
       "  idx            name\n",
       "0  94             age\n",
       "1  95          fnlwgt\n",
       "2  96   education-num\n",
       "3  97    capital-gain\n",
       "4  98    capital-loss\n",
       "5  99  hours-per-week"
      ]
     },
     "execution_count": 56,
     "metadata": {},
     "output_type": "execute_result"
    }
   ],
   "source": [
    "df_importance = pd.DataFrame(columns=['idx', 'name'])\n",
    "for attr in temp['numeric']:\n",
    "    temp_df = {}\n",
    "    temp_df['idx'] = attr['idx']\n",
    "    temp_df['name'] = attr['name']\n",
    "    #print(temp_df)\n",
    "    df_importance = df_importance.append(temp_df, ignore_index=True)\n",
    "    #print(attr['idx'], attr['name'])\n",
    "    #print(attr)\n",
    "    #break\n",
    "df_importance"
   ]
  },
  {
   "cell_type": "code",
   "execution_count": 57,
   "metadata": {},
   "outputs": [
    {
     "data": {
      "text/html": [
       "<div>\n",
       "<style scoped>\n",
       "    .dataframe tbody tr th:only-of-type {\n",
       "        vertical-align: middle;\n",
       "    }\n",
       "\n",
       "    .dataframe tbody tr th {\n",
       "        vertical-align: top;\n",
       "    }\n",
       "\n",
       "    .dataframe thead th {\n",
       "        text-align: right;\n",
       "    }\n",
       "</style>\n",
       "<table border=\"1\" class=\"dataframe\">\n",
       "  <thead>\n",
       "    <tr style=\"text-align: right;\">\n",
       "      <th></th>\n",
       "      <th>idx</th>\n",
       "      <th>name</th>\n",
       "    </tr>\n",
       "  </thead>\n",
       "  <tbody>\n",
       "    <tr>\n",
       "      <th>0</th>\n",
       "      <td>94</td>\n",
       "      <td>age</td>\n",
       "    </tr>\n",
       "    <tr>\n",
       "      <th>1</th>\n",
       "      <td>95</td>\n",
       "      <td>fnlwgt</td>\n",
       "    </tr>\n",
       "    <tr>\n",
       "      <th>2</th>\n",
       "      <td>96</td>\n",
       "      <td>education-num</td>\n",
       "    </tr>\n",
       "    <tr>\n",
       "      <th>3</th>\n",
       "      <td>97</td>\n",
       "      <td>capital-gain</td>\n",
       "    </tr>\n",
       "    <tr>\n",
       "      <th>4</th>\n",
       "      <td>98</td>\n",
       "      <td>capital-loss</td>\n",
       "    </tr>\n",
       "    <tr>\n",
       "      <th>...</th>\n",
       "      <td>...</td>\n",
       "      <td>...</td>\n",
       "    </tr>\n",
       "    <tr>\n",
       "      <th>95</th>\n",
       "      <td>89</td>\n",
       "      <td>native-country_one_hot_ Yugoslavia</td>\n",
       "    </tr>\n",
       "    <tr>\n",
       "      <th>96</th>\n",
       "      <td>90</td>\n",
       "      <td>native-country_one_hot_ Outlying-US(Guam-USVI-...</td>\n",
       "    </tr>\n",
       "    <tr>\n",
       "      <th>97</th>\n",
       "      <td>91</td>\n",
       "      <td>native-country_one_hot_ Honduras</td>\n",
       "    </tr>\n",
       "    <tr>\n",
       "      <th>98</th>\n",
       "      <td>92</td>\n",
       "      <td>native-country_one_hot_ Hungary</td>\n",
       "    </tr>\n",
       "    <tr>\n",
       "      <th>99</th>\n",
       "      <td>93</td>\n",
       "      <td>native-country_one_hot_ Scotland</td>\n",
       "    </tr>\n",
       "  </tbody>\n",
       "</table>\n",
       "<p>100 rows × 2 columns</p>\n",
       "</div>"
      ],
      "text/plain": [
       "   idx                                               name\n",
       "0   94                                                age\n",
       "1   95                                             fnlwgt\n",
       "2   96                                      education-num\n",
       "3   97                                       capital-gain\n",
       "4   98                                       capital-loss\n",
       "..  ..                                                ...\n",
       "95  89                 native-country_one_hot_ Yugoslavia\n",
       "96  90  native-country_one_hot_ Outlying-US(Guam-USVI-...\n",
       "97  91                   native-country_one_hot_ Honduras\n",
       "98  92                    native-country_one_hot_ Hungary\n",
       "99  93                   native-country_one_hot_ Scotland\n",
       "\n",
       "[100 rows x 2 columns]"
      ]
     },
     "execution_count": 57,
     "metadata": {},
     "output_type": "execute_result"
    }
   ],
   "source": [
    "for attr in temp['binary']:\n",
    "    temp_df = {}\n",
    "    temp_df['idx'] = attr['idx']\n",
    "    temp_df['name'] = attr['name']\n",
    "    df_importance = df_importance.append(temp_df, ignore_index=True)\n",
    "df_importance\n"
   ]
  },
  {
   "cell_type": "code",
   "execution_count": 58,
   "metadata": {},
   "outputs": [
    {
     "name": "stdout",
     "output_type": "stream",
     "text": [
      "(100,[0,1,2,3,4,5,6,8,9,10,11,13,14,15,16,17,18,19,20,21,23,24,25,26,27,29,30,31,32,33,34,35,36,37,38,39,40,41,43,44,45,46,47,48,49,50,51,52,53,54,55,56,61,62,63,65,67,68,71,72,94,95,96,97,98,99],[0.0004013020608441881,0.0012924445750508182,3.456435105995699e-05,5.588407803672825e-05,7.551565730848336e-05,0.014054308091170831,0.0003757789893767961,0.010904422126683355,0.0009152505604118992,0.018543266339354793,0.02274716984792387,0.003890486631660307,0.00019418188655910784,5.946059111961288e-07,0.004333444677787218,0.0009703866558887631,0.0011544764277259712,0.00026068463946552465,0.012178529612823775,5.495791071227507e-06,0.16117105387993502,0.06297763961833429,0.007210783109246159,0.00033595466889992803,5.003879265391791e-05,0.011160910370128094,6.889872257477638e-05,0.0061010276029625585,0.00046885683582710195,0.00012181544706172387,0.01179209648492181,0.00039729386956435553,0.0005590397481244079,0.00016483061397484187,0.0011255788207995149,0.0016093068216226102,8.059685706704206e-05,0.00022912342937660596,0.12963010698203745,0.04623150108246234,0.049718520096551054,0.007429255008512546,0.013073337728033032,0.0004139817525048074,0.000485022983735775,0.000150335510201815,0.0002377415084165473,0.0016342832592507218,0.0002689917729695508,5.798375018091072e-05,6.134513275121371e-05,1.9773828519039808e-05,0.0004547116385413575,1.5592141090889313e-05,2.8487413833971123e-05,0.00011109917653057126,0.0001650930090089637,3.1909498046469716e-05,0.00046167784040477563,9.897641087933226e-05,0.0741259108522591,0.002879526952409267,0.03495556109164206,0.18332087145152481,0.03704877727312234,0.058876591555389726])\n"
     ]
    },
    {
     "data": {
      "text/html": [
       "<div>\n",
       "<style scoped>\n",
       "    .dataframe tbody tr th:only-of-type {\n",
       "        vertical-align: middle;\n",
       "    }\n",
       "\n",
       "    .dataframe tbody tr th {\n",
       "        vertical-align: top;\n",
       "    }\n",
       "\n",
       "    .dataframe thead th {\n",
       "        text-align: right;\n",
       "    }\n",
       "</style>\n",
       "<table border=\"1\" class=\"dataframe\">\n",
       "  <thead>\n",
       "    <tr style=\"text-align: right;\">\n",
       "      <th></th>\n",
       "      <th>idx</th>\n",
       "      <th>name</th>\n",
       "      <th>feature_importance</th>\n",
       "    </tr>\n",
       "  </thead>\n",
       "  <tbody>\n",
       "    <tr>\n",
       "      <th>0</th>\n",
       "      <td>94</td>\n",
       "      <td>age</td>\n",
       "      <td>0.000401</td>\n",
       "    </tr>\n",
       "    <tr>\n",
       "      <th>1</th>\n",
       "      <td>95</td>\n",
       "      <td>fnlwgt</td>\n",
       "      <td>0.001292</td>\n",
       "    </tr>\n",
       "    <tr>\n",
       "      <th>2</th>\n",
       "      <td>96</td>\n",
       "      <td>education-num</td>\n",
       "      <td>0.000035</td>\n",
       "    </tr>\n",
       "    <tr>\n",
       "      <th>3</th>\n",
       "      <td>97</td>\n",
       "      <td>capital-gain</td>\n",
       "      <td>0.000056</td>\n",
       "    </tr>\n",
       "    <tr>\n",
       "      <th>4</th>\n",
       "      <td>98</td>\n",
       "      <td>capital-loss</td>\n",
       "      <td>0.000076</td>\n",
       "    </tr>\n",
       "    <tr>\n",
       "      <th>...</th>\n",
       "      <td>...</td>\n",
       "      <td>...</td>\n",
       "      <td>...</td>\n",
       "    </tr>\n",
       "    <tr>\n",
       "      <th>95</th>\n",
       "      <td>89</td>\n",
       "      <td>native-country_one_hot_ Yugoslavia</td>\n",
       "      <td>0.002880</td>\n",
       "    </tr>\n",
       "    <tr>\n",
       "      <th>96</th>\n",
       "      <td>90</td>\n",
       "      <td>native-country_one_hot_ Outlying-US(Guam-USVI-...</td>\n",
       "      <td>0.034956</td>\n",
       "    </tr>\n",
       "    <tr>\n",
       "      <th>97</th>\n",
       "      <td>91</td>\n",
       "      <td>native-country_one_hot_ Honduras</td>\n",
       "      <td>0.183321</td>\n",
       "    </tr>\n",
       "    <tr>\n",
       "      <th>98</th>\n",
       "      <td>92</td>\n",
       "      <td>native-country_one_hot_ Hungary</td>\n",
       "      <td>0.037049</td>\n",
       "    </tr>\n",
       "    <tr>\n",
       "      <th>99</th>\n",
       "      <td>93</td>\n",
       "      <td>native-country_one_hot_ Scotland</td>\n",
       "      <td>0.058877</td>\n",
       "    </tr>\n",
       "  </tbody>\n",
       "</table>\n",
       "<p>100 rows × 3 columns</p>\n",
       "</div>"
      ],
      "text/plain": [
       "   idx                                               name  feature_importance\n",
       "0   94                                                age            0.000401\n",
       "1   95                                             fnlwgt            0.001292\n",
       "2   96                                      education-num            0.000035\n",
       "3   97                                       capital-gain            0.000056\n",
       "4   98                                       capital-loss            0.000076\n",
       "..  ..                                                ...                 ...\n",
       "95  89                 native-country_one_hot_ Yugoslavia            0.002880\n",
       "96  90  native-country_one_hot_ Outlying-US(Guam-USVI-...            0.034956\n",
       "97  91                   native-country_one_hot_ Honduras            0.183321\n",
       "98  92                    native-country_one_hot_ Hungary            0.037049\n",
       "99  93                   native-country_one_hot_ Scotland            0.058877\n",
       "\n",
       "[100 rows x 3 columns]"
      ]
     },
     "execution_count": 58,
     "metadata": {},
     "output_type": "execute_result"
    }
   ],
   "source": [
    "print(best_model.featureImportances)\n",
    "df_temp = pd.DataFrame(best_model.featureImportances.toArray())\n",
    "df_temp.columns = ['feature_importance']\n",
    "df_importance = df_importance.merge(df_temp, left_index=True, right_index=True)\n",
    "df_importance"
   ]
  },
  {
   "cell_type": "code",
   "execution_count": 60,
   "metadata": {},
   "outputs": [
    {
     "data": {
      "text/html": [
       "<div>\n",
       "<style scoped>\n",
       "    .dataframe tbody tr th:only-of-type {\n",
       "        vertical-align: middle;\n",
       "    }\n",
       "\n",
       "    .dataframe tbody tr th {\n",
       "        vertical-align: top;\n",
       "    }\n",
       "\n",
       "    .dataframe thead th {\n",
       "        text-align: right;\n",
       "    }\n",
       "</style>\n",
       "<table border=\"1\" class=\"dataframe\">\n",
       "  <thead>\n",
       "    <tr style=\"text-align: right;\">\n",
       "      <th></th>\n",
       "      <th>idx</th>\n",
       "      <th>name</th>\n",
       "      <th>feature_importance</th>\n",
       "    </tr>\n",
       "  </thead>\n",
       "  <tbody>\n",
       "    <tr>\n",
       "      <th>97</th>\n",
       "      <td>91</td>\n",
       "      <td>native-country_one_hot_ Honduras</td>\n",
       "      <td>0.183321</td>\n",
       "    </tr>\n",
       "    <tr>\n",
       "      <th>23</th>\n",
       "      <td>17</td>\n",
       "      <td>education_one_hot_ Prof-school</td>\n",
       "      <td>0.161171</td>\n",
       "    </tr>\n",
       "    <tr>\n",
       "      <th>43</th>\n",
       "      <td>37</td>\n",
       "      <td>occupation_one_hot_ Transport-moving</td>\n",
       "      <td>0.129630</td>\n",
       "    </tr>\n",
       "    <tr>\n",
       "      <th>94</th>\n",
       "      <td>88</td>\n",
       "      <td>native-country_one_hot_ Thailand</td>\n",
       "      <td>0.074126</td>\n",
       "    </tr>\n",
       "    <tr>\n",
       "      <th>24</th>\n",
       "      <td>18</td>\n",
       "      <td>education_one_hot_ 9th</td>\n",
       "      <td>0.062978</td>\n",
       "    </tr>\n",
       "    <tr>\n",
       "      <th>...</th>\n",
       "      <td>...</td>\n",
       "      <td>...</td>\n",
       "      <td>...</td>\n",
       "    </tr>\n",
       "    <tr>\n",
       "      <th>81</th>\n",
       "      <td>75</td>\n",
       "      <td>native-country_one_hot_ Haiti</td>\n",
       "      <td>0.000000</td>\n",
       "    </tr>\n",
       "    <tr>\n",
       "      <th>7</th>\n",
       "      <td>1</td>\n",
       "      <td>workclass_one_hot_ Self-emp-not-inc</td>\n",
       "      <td>0.000000</td>\n",
       "    </tr>\n",
       "    <tr>\n",
       "      <th>82</th>\n",
       "      <td>76</td>\n",
       "      <td>native-country_one_hot_ Iran</td>\n",
       "      <td>0.000000</td>\n",
       "    </tr>\n",
       "    <tr>\n",
       "      <th>74</th>\n",
       "      <td>68</td>\n",
       "      <td>native-country_one_hot_ Dominican-Republic</td>\n",
       "      <td>0.000000</td>\n",
       "    </tr>\n",
       "    <tr>\n",
       "      <th>69</th>\n",
       "      <td>63</td>\n",
       "      <td>native-country_one_hot_ England</td>\n",
       "      <td>0.000000</td>\n",
       "    </tr>\n",
       "  </tbody>\n",
       "</table>\n",
       "<p>100 rows × 3 columns</p>\n",
       "</div>"
      ],
      "text/plain": [
       "   idx                                        name  feature_importance\n",
       "97  91            native-country_one_hot_ Honduras            0.183321\n",
       "23  17              education_one_hot_ Prof-school            0.161171\n",
       "43  37        occupation_one_hot_ Transport-moving            0.129630\n",
       "94  88            native-country_one_hot_ Thailand            0.074126\n",
       "24  18                      education_one_hot_ 9th            0.062978\n",
       "..  ..                                         ...                 ...\n",
       "81  75               native-country_one_hot_ Haiti            0.000000\n",
       "7    1         workclass_one_hot_ Self-emp-not-inc            0.000000\n",
       "82  76                native-country_one_hot_ Iran            0.000000\n",
       "74  68  native-country_one_hot_ Dominican-Republic            0.000000\n",
       "69  63             native-country_one_hot_ England            0.000000\n",
       "\n",
       "[100 rows x 3 columns]"
      ]
     },
     "execution_count": 60,
     "metadata": {},
     "output_type": "execute_result"
    }
   ],
   "source": [
    "\n",
    "df_importance.sort_values(by=['feature_importance'], ascending=False, inplace=True)\n",
    "df_importance\n"
   ]
  },
  {
   "cell_type": "code",
   "execution_count": null,
   "metadata": {},
   "outputs": [],
   "source": []
  },
  {
   "cell_type": "code",
   "execution_count": null,
   "metadata": {},
   "outputs": [],
   "source": []
  }
 ],
 "metadata": {
  "kernelspec": {
   "display_name": "Python 3",
   "language": "python",
   "name": "python3"
  },
  "language_info": {
   "codemirror_mode": {
    "name": "ipython",
    "version": 3
   },
   "file_extension": ".py",
   "mimetype": "text/x-python",
   "name": "python",
   "nbconvert_exporter": "python",
   "pygments_lexer": "ipython3",
   "version": "3.7.9"
  }
 },
 "nbformat": 4,
 "nbformat_minor": 4
}
